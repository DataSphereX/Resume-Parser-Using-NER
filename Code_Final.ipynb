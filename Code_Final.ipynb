{
  "nbformat": 4,
  "nbformat_minor": 0,
  "metadata": {
    "colab": {
      "provenance": []
    },
    "kernelspec": {
      "name": "python3",
      "display_name": "Python 3"
    },
    "language_info": {
      "name": "python"
    },
    "accelerator": "GPU",
    "gpuClass": "standard"
  },
  "cells": [
    {
      "cell_type": "code",
      "execution_count": null,
      "metadata": {
        "colab": {
          "base_uri": "https://localhost:8080/"
        },
        "id": "PQ2p-fqOThdr",
        "outputId": "d990bc8d-8e4a-496b-ad09-51ed6a05d8bc"
      },
      "outputs": [
        {
          "output_type": "stream",
          "name": "stderr",
          "text": [
            "[nltk_data] Downloading package stopwords to /root/nltk_data...\n",
            "[nltk_data]   Unzipping corpora/stopwords.zip.\n"
          ]
        },
        {
          "output_type": "execute_result",
          "data": {
            "text/plain": [
              "True"
            ]
          },
          "metadata": {},
          "execution_count": 1
        }
      ],
      "source": [
        "#!pip install PyPDF2\n",
        "#!pip install docx2txt\n",
        "import nltk\n",
        "nltk.download('stopwords')\n",
        "#!pip install fitz"
      ]
    },
    {
      "cell_type": "code",
      "source": [
        "import os\n",
        "#import PyPDF2\n",
        "import numpy as np\n",
        "#import docx2txt\n",
        "import nltk\n",
        "import spacy\n",
        "import pickle\n",
        "import random\n",
        "import pandas as pd\n",
        "import os\n",
        "from tqdm import tqdm\n",
        "import spacy\n",
        "from spacy.tokens import DocBin\n",
        "import json\n",
        "from sklearn.feature_extraction.text import CountVectorizer\n",
        "from sklearn.metrics.pairwise import cosine_similarity\n",
        "from nltk.corpus import stopwords\n",
        "stpwords = stopwords.words('english')"
      ],
      "metadata": {
        "id": "rEcZEK-7Tqjc"
      },
      "execution_count": null,
      "outputs": []
    },
    {
      "cell_type": "code",
      "source": [
        "#Manual Annotation in Norepad++\n",
        "test = [\n",
        "    ('Govardhana K Senior Software Engineer  Bengaluru, Karnataka, Karnataka - Email me on Indeed: indeed.com/r/Govardhana-K/ b2de315d95905b68  Total IT experience 5 Years 6 Months Cloud Lending Solutions INC 4 Month • Salesforce Developer Oracle 5 Years 2 Month • Core Java Developer Languages Core Java, Go Lang Oracle PL-SQL programming, Sales Force Developer with APEX.  Designations & Promotions  Willing to relocate: Anywhere  WORK EXPERIENCE  Senior Software Engineer  Cloud Lending Solutions -  Bangalore, Karnataka -  January 2018 to Present  Present  Senior Consultant  Oracle -  Bangalore, Karnataka -  November 2016 to December 2017  Staff Consultant  Oracle -  Bangalore, Karnataka -  January 2014 to October 2016  Associate Consultant  Oracle -  Bangalore, Karnataka -  November 2012 to December 2013  EDUCATION  B.E in Computer Science Engineering  Adithya Institute of Technology -  Tamil Nadu  September 2008 to June 2012  https://www.indeed.com/r/Govardhana-K/b2de315d95905b68?isid=rex-download&ikw=download-top&co=IN https://www.indeed.com/r/Govardhana-K/b2de315d95905b68?isid=rex-download&ikw=download-top&co=IN   SKILLS  APEX. (Less than 1 year), Data Structures (3 years), FLEXCUBE (5 years), Oracle (5 years), Algorithms (3 years)  LINKS  https://www.linkedin.com/in/govardhana-k-61024944/  ADDITIONAL INFORMATION  Technical Proficiency:  Languages: Core Java, Go Lang, Data Structures & Algorithms, Oracle PL-SQL programming, Sales Force with APEX. Tools: RADTool, Jdeveloper, NetBeans, Eclipse, SQL developer, PL/SQL Developer, WinSCP, Putty Web Technologies: JavaScript, XML, HTML, Webservice  Operating Systems: Linux, Windows Version control system SVN & Git-Hub Databases: Oracle Middleware: Web logic, OC4J Product FLEXCUBE: Oracle FLEXCUBE Versions 10.x, 11.x and 12.x  https://www.linkedin.com/in/govardhana-k-61024944/',\n",
        " {'entities': [\n",
        "     (0, 12, 'Name'),\n",
        "     (13, 37, 'Designation'),\n",
        "     (39, 48, 'Location'),\n",
        "     (93, 136, 'Email Address'),\n",
        " (175, 202, 'Companies worked at'),\n",
        " (234, 240, 'Companies worked at'),\n",
        " (308, 314, 'Companies worked at'),\n",
        " (444, 469, 'Designation'),\n",
        " (470, 493, 'Companies worked at'),\n",
        " (555, 572, 'Designation'),\n",
        " (574, 580, 'Companies worked at'),\n",
        " (640, 656, 'Designation'),\n",
        " (658, 664, 'Companies worked at'),\n",
        " (722, 742, 'Designation'),\n",
        " (744, 750, 'Companies worked at'),\n",
        " (787, 791, 'Graduation Year'),\n",
        " (821, 856, 'Degree'),\n",
        " (858, 889, 'College Name'),\n",
        " (928, 932, 'Graduation Year'),\n",
        " (1136, 1140, 'Skills'),\n",
        " (1162, 1177, 'Skills'),\n",
        " (1189, 1197, 'Skills'),\n",
        " (1209, 1215, 'Companies worked at'),\n",
        " (1367, 1376, 'Skills'),\n",
        " (1378, 1385, 'Skills'),\n",
        " (1387, 1402, 'Skills'),\n",
        "(1417, 1423, 'Companies worked at'),\n",
        "(1696, 1702, 'Companies worked at'),\n",
        " (1715, 1724, 'Skills'),\n",
        "  (1749, 1755, 'Companies worked at')]}),\n",
        "     (\"Harini Komaravelli Test Analyst at Oracle, Hyderabad  Hyderabad, Telangana - Email me on Indeed: indeed.com/r/Harini- Komaravelli/2659eee82e435d1b  ➢ 6 Yrs. of IT Experience in Manual and Automation testing.  WORK EXPERIENCE  QA Analyst  Oracle  Test Analyst at Oracle, Hyderabad  Infosys Ltd -  Hyderabad, Telangana -  November 2011 to February 2016  Hyderabad from Nov 2011 to Feb17 2016 ➢ Worked in Tata Consultancy Services, Hyderabad from Feb 24 to Apr 11 2017 ➢ Currently working as a Test Analyst at Oracle, Hyderabad  QA Analyst with 6 years of IT experience  Oracle  EDUCATION  MCA  Osmania University  B.Sc. in Computer Science  Osmania University  SKILLS  Functional Testing, Blue Prism, Qtp  ADDITIONAL INFORMATION  Area of Expertise:  ➢ Familiar with Agile Methodologies. ➢ Having knowledge in Energy (Petroleum) & Health Care domains. ➢ Involved in preparation of Test Scenarios. ➢ Preparing Test Data for the test cases.  https://www.indeed.com/r/Harini-Komaravelli/2659eee82e435d1b?isid=rex-download&ikw=download-top&co=IN https://www.indeed.com/r/Harini-Komaravelli/2659eee82e435d1b?isid=rex-download&ikw=download-top&co=IN   ➢ Experienced in development and execution of Test cases effectively. ➢ Experienced in Functional testing, GUI testing, Smoke testing, Regression testing and Integration Testing ➢ Experienced in doing Accessibility testing of an application ➢ Ability to understand user Requirements, Functional and Design specifications. ➢ Good knowledge of SDLC and STLC processes. ➢ Deciding the Severity and Priority of bugs. ➢ Experience in using Microsoft Test Manager & Oracle Test Manager as Test Management Tools. ➢ Having good experience in testing windows based & web based applications. ➢ Involved in Client Interactions for reviews, issues and for any clarifications. ➢ Web Services Testing ➢ Writing Test Scripts in QTP, Testcomplete. ➢ Creating Object Repositories and Function Libraries in QTP. ➢ Enhanced QTP scripts using VB Script. ➢ Strong experience in working with Blue Prism tool ➢ Worked on different Environments like Windows Application & Web Application  Technical Skills:  ❑ Test Automation Tools: Blue Prism, QTP 10.0, Testcomplete ❑ Test Management Tool: Microsoft Test Manager, Oracle Test Manager & JIRA ❑ Databases: Oracle 10g, SQL Server.  ❑ Operating Systems: Windows 7  Project 1: Title: Cadence Client: Baker Hughes  Technologies: Microsoft Visual Studio and Microsoft Team Foundation Server  Client Background: An oilfield services company delivering focused efforts on shale gas and other oilfield services. It provides services, tools and software for drilling and formation evaluation, well completion, production management, seismic data collection and interpretation.  Project Description: AUT (Application under test) is the next generation revolutionary, robust, easy to use scalable well site data acquisition processing and interpretation system for Client's Drilling Services to deliver services that meets cross divisional business requirements consistently.  Project 2:  Description: Paragon supports your entire care team with one tool that your clinicians need to help deliver the best patient care. Designed by physicians, nurses, pharmacists and mid level providers that have a first-hand understanding of clinical workflow needs, Paragon clinical applications allow your caregivers to focus on what matters most; spending time caring for patients. Since Paragon is fully-integrated across all applications and built around a single patient database, information    entered anywhere in the system is immediately available to the entire care team. Immediate access not only helps clinicians make better treatment decisions - it also helps promote patient safety. Paragon offers a broad suite of multidisciplinary clinical software solutions together with anytime, anywhere access to the complete patient record.  Responsibilities:  • Performed Smoke testing and Regression testing. • Involved in Generating and Executing Test Script using Quick Test Pro & Blue Prism • Usability and User Interface Testing. • Involved in Defect tracking and reporting the bugs using TFS • Participated in frequent walk-through meetings with Internal Quality Assurance groups and with development groups. • Participated in client calls and clarifying the doubts by having AT&T sessions • Involved in functional, regression and smoke testing to validate the application data changes done in windows application • Certifying the build status by running the scripts as part of smoke testing  Project 3:  Description: Food & Beverages R&A: Easily manage business across multiple locations while reducing IT cost and complexity. Cloud-based point-of-sale (POS) solutions enable centralized enterprise management with lower upfront costs and a smaller footprint.  Responsibilities:  • Performed Functional testing and Regression testing. • Involved in Generating and Executing Test Scripts using Blue Prism tool and Open script • Involved in preparing bots using Blue Prism tool. • Accessibility testing of the web application • Involved in Defect tracking and reporting the bugs using JIRA • WebServices testing by calling API's to export the data\",\n",
        "  {'entities': [(0, 18, 'Name'),\n",
        "   (19, 31, 'Designation'),\n",
        "   (35, 41, 'Companies worked at'),\n",
        "   (43, 52, 'Location'),\n",
        "   (54, 63, 'Location'),\n",
        "   (150, 151, 'Years of Experience'),\n",
        "   (226, 236, 'Designation'),\n",
        "   (238, 244, 'Companies worked at'),\n",
        "   (246, 258, 'Designation'),\n",
        "   (262, 268, 'Companies worked at'),\n",
        "   (270, 279, 'Location'),\n",
        "(283, 292, 'Companies worked at'),\n",
        "   (296, 305, 'Location'),\n",
        "   (352, 361, 'Location'),\n",
        "(402, 427, 'Companies worked at'),\n",
        "   (429, 438, 'Location'),\n",
        "   (491, 503, 'Designation'),\n",
        "   (507, 513, 'Companies worked at'),\n",
        "   (515, 524, 'Location'),\n",
        "   (526, 536, 'Designation'),\n",
        "   (568, 574, 'Companies worked at'),\n",
        "   (587, 590, 'Degree'),\n",
        "   (592, 610, 'College Name'),\n",
        "   (612, 637, 'Degree'),\n",
        "   (639, 657, 'College Name'),\n",
        "   (667, 685, 'Skills'),\n",
        "   (687, 697, 'Skills'),\n",
        "   (699, 702, 'Skills'),\n",
        "   (1230, 1248, 'Skills'),\n",
        "   (1250, 1261, 'Skills'),\n",
        "   (1263, 1276, 'Skills'),\n",
        "   (1278, 1298, 'Skills'),\n",
        "   (1302, 1321, 'Skills'),\n",
        "   (1345, 1365, 'Skills'),\n",
        "   (1603, 1609, 'Companies worked at'),\n",
        "   (2235, 2241, 'Companies worked at'),\n",
        "(2275, 2281, 'Companies worked at')]})\n",
        "     ]"
      ],
      "metadata": {
        "id": "DlKKz1xCTrSB"
      },
      "execution_count": null,
      "outputs": []
    },
    {
      "cell_type": "code",
      "source": [
        "import json #importing train data\n",
        "f = open('/content/training_data.json')\n",
        "training = json.load(f)"
      ],
      "metadata": {
        "id": "mQ8iFh1TbRN1",
        "colab": {
          "base_uri": "https://localhost:8080/",
          "height": 209
        },
        "outputId": "6a8d6360-1261-49c3-d104-d1ad243d8c41"
      },
      "execution_count": null,
      "outputs": [
        {
          "output_type": "error",
          "ename": "FileNotFoundError",
          "evalue": "ignored",
          "traceback": [
            "\u001b[0;31m---------------------------------------------------------------------------\u001b[0m",
            "\u001b[0;31mFileNotFoundError\u001b[0m                         Traceback (most recent call last)",
            "\u001b[0;32m<ipython-input-3-924c15cad9d1>\u001b[0m in \u001b[0;36m<module>\u001b[0;34m\u001b[0m\n\u001b[1;32m      1\u001b[0m \u001b[0;32mimport\u001b[0m \u001b[0mjson\u001b[0m \u001b[0;31m#importing train data\u001b[0m\u001b[0;34m\u001b[0m\u001b[0;34m\u001b[0m\u001b[0m\n\u001b[0;32m----> 2\u001b[0;31m \u001b[0mf\u001b[0m \u001b[0;34m=\u001b[0m \u001b[0mopen\u001b[0m\u001b[0;34m(\u001b[0m\u001b[0;34m'/content/training_data.json'\u001b[0m\u001b[0;34m)\u001b[0m\u001b[0;34m\u001b[0m\u001b[0;34m\u001b[0m\u001b[0m\n\u001b[0m\u001b[1;32m      3\u001b[0m \u001b[0mtraining\u001b[0m \u001b[0;34m=\u001b[0m \u001b[0mjson\u001b[0m\u001b[0;34m.\u001b[0m\u001b[0mload\u001b[0m\u001b[0;34m(\u001b[0m\u001b[0mf\u001b[0m\u001b[0;34m)\u001b[0m\u001b[0;34m\u001b[0m\u001b[0;34m\u001b[0m\u001b[0m\n",
            "\u001b[0;31mFileNotFoundError\u001b[0m: [Errno 2] No such file or directory: '/content/training_data.json'"
          ]
        }
      ]
    },
    {
      "cell_type": "code",
      "source": [
        "#nlp = spacy.blank(\"en\") # load a new spacy model\n",
        "nlp = spacy.load(\"en_core_web_sm\") # load other spacy model\n",
        "\n",
        "db = DocBin() # create a DocBin object\n",
        "i = 0\n",
        "for text, annot in tqdm(training['annotations']): # data in previous format\n",
        "    try:\n",
        "        doc = nlp.make_doc(text) # create doc object from text\n",
        "        ents = []\n",
        "        for start, end, label in annot[\"entities\"]: # add character indexes\n",
        "            span = doc.char_span(start, end, label=label, alignment_mode=\"contract\")\n",
        "            if span is None:\n",
        "                print(\"Skipping entity\")\n",
        "            else:\n",
        "                ents.append(span)\n",
        "        doc.ents = ents # label the text with the ents\n",
        "        db.add(doc)\n",
        "        i += 1\n",
        "        print('Loaded', i)\n",
        "\n",
        "    except:\n",
        "        pass"
      ],
      "metadata": {
        "colab": {
          "base_uri": "https://localhost:8080/"
        },
        "id": "wvvzyr9ITu_p",
        "outputId": "52b79654-cb7b-41b1-f889-9d2e73057c95"
      },
      "execution_count": null,
      "outputs": [
        {
          "output_type": "stream",
          "name": "stderr",
          "text": [
            "  6%|▌         | 3/49 [00:00<00:05,  9.07it/s]"
          ]
        },
        {
          "output_type": "stream",
          "name": "stdout",
          "text": [
            "Loaded 1\n",
            "Loaded 2\n",
            "Loaded 3\n"
          ]
        },
        {
          "output_type": "stream",
          "name": "stderr",
          "text": [
            " 14%|█▍        | 7/49 [00:00<00:03, 11.70it/s]"
          ]
        },
        {
          "output_type": "stream",
          "name": "stdout",
          "text": [
            "Loaded 4\n",
            "Loaded 5\n",
            "Loaded 6\n",
            "Loaded 7\n"
          ]
        },
        {
          "output_type": "stream",
          "name": "stderr",
          "text": [
            "\r 20%|██        | 10/49 [00:00<00:02, 13.23it/s]"
          ]
        },
        {
          "output_type": "stream",
          "name": "stdout",
          "text": [
            "Loaded 8\n",
            "Loaded 9\n",
            "Loaded 10\n",
            "Loaded 11\n"
          ]
        },
        {
          "output_type": "stream",
          "name": "stderr",
          "text": [
            " 33%|███▎      | 16/49 [00:01<00:01, 19.58it/s]"
          ]
        },
        {
          "output_type": "stream",
          "name": "stdout",
          "text": [
            "Loaded 12\n",
            "Loaded 13\n",
            "Loaded 14\n",
            "Loaded 15\n",
            "Loaded 16\n",
            "Loaded 17\n"
          ]
        },
        {
          "output_type": "stream",
          "name": "stderr",
          "text": [
            "\r 39%|███▉      | 19/49 [00:01<00:01, 19.53it/s]"
          ]
        },
        {
          "output_type": "stream",
          "name": "stdout",
          "text": [
            "Loaded 18\n",
            "Loaded 19\n",
            "Loaded 20\n",
            "Loaded 21\n"
          ]
        },
        {
          "output_type": "stream",
          "name": "stderr",
          "text": [
            " 53%|█████▎    | 26/49 [00:01<00:01, 19.90it/s]"
          ]
        },
        {
          "output_type": "stream",
          "name": "stdout",
          "text": [
            "Loaded 22\n",
            "Loaded 23\n",
            "Loaded 24\n",
            "Loaded 25\n",
            "Loaded 26\n",
            "Loaded 27\n",
            "Loaded 28\n"
          ]
        },
        {
          "output_type": "stream",
          "name": "stderr",
          "text": [
            " 73%|███████▎  | 36/49 [00:01<00:00, 25.82it/s]"
          ]
        },
        {
          "output_type": "stream",
          "name": "stdout",
          "text": [
            "Loaded 29\n",
            "Loaded 30\n",
            "Loaded 31\n",
            "Loaded 32\n",
            "Loaded 33\n",
            "Loaded 34\n",
            "Loaded 35\n",
            "Loaded 36\n"
          ]
        },
        {
          "output_type": "stream",
          "name": "stderr",
          "text": [
            " 94%|█████████▍| 46/49 [00:02<00:00, 36.81it/s]"
          ]
        },
        {
          "output_type": "stream",
          "name": "stdout",
          "text": [
            "Loaded 37\n",
            "Loaded 38\n",
            "Loaded 39\n",
            "Loaded 40\n",
            "Loaded 41\n",
            "Loaded 42\n",
            "Loaded 43\n",
            "Loaded 44\n",
            "Loaded 45\n",
            "Loaded 46\n",
            "Loaded 47\n",
            "Loaded 48\n"
          ]
        },
        {
          "output_type": "stream",
          "name": "stderr",
          "text": [
            "\r100%|██████████| 49/49 [00:02<00:00, 22.08it/s]"
          ]
        },
        {
          "output_type": "stream",
          "name": "stdout",
          "text": [
            "Loaded 49\n"
          ]
        },
        {
          "output_type": "stream",
          "name": "stderr",
          "text": [
            "\n"
          ]
        }
      ]
    },
    {
      "cell_type": "code",
      "source": [
        "#os.chdir(r'XXXX\\XXXXX')\n",
        "db.to_disk(\"train.spacy\") # save the docbin object"
      ],
      "metadata": {
        "id": "nJTC8A1LTx0n"
      },
      "execution_count": null,
      "outputs": []
    },
    {
      "cell_type": "code",
      "source": [
        "!python -m spacy init fill-config base_config.cfg config.cfg"
      ],
      "metadata": {
        "id": "izSLIQRIFYsc"
      },
      "execution_count": null,
      "outputs": []
    },
    {
      "cell_type": "code",
      "source": [
        "import locale\n",
        "def getpreferredencoding(do_setlocale = True):\n",
        "    return \"UTF-8\"\n",
        "locale.getpreferredencoding = getpreferredencoding"
      ],
      "metadata": {
        "id": "r9nO0RBleTPr"
      },
      "execution_count": null,
      "outputs": []
    },
    {
      "cell_type": "code",
      "source": [
        "!python -m spacy train config.cfg --output ./output --paths.train ./train.spacy --paths.dev ./train.spacy"
      ],
      "metadata": {
        "colab": {
          "base_uri": "https://localhost:8080/"
        },
        "id": "3KLN5o0GT1Q0",
        "outputId": "2881c62e-d037-430d-b358-ea3455ad393c"
      },
      "execution_count": null,
      "outputs": [
        {
          "output_type": "stream",
          "name": "stdout",
          "text": [
            "2023-02-21 00:57:02.684102: W tensorflow/compiler/xla/stream_executor/platform/default/dso_loader.cc:64] Could not load dynamic library 'libnvinfer.so.7'; dlerror: libnvinfer.so.7: cannot open shared object file: No such file or directory; LD_LIBRARY_PATH: /usr/lib64-nvidia\n",
            "2023-02-21 00:57:02.684224: W tensorflow/compiler/xla/stream_executor/platform/default/dso_loader.cc:64] Could not load dynamic library 'libnvinfer_plugin.so.7'; dlerror: libnvinfer_plugin.so.7: cannot open shared object file: No such file or directory; LD_LIBRARY_PATH: /usr/lib64-nvidia\n",
            "2023-02-21 00:57:02.684244: W tensorflow/compiler/tf2tensorrt/utils/py_utils.cc:38] TF-TRT Warning: Cannot dlopen some TensorRT libraries. If you would like to use Nvidia GPU with TensorRT, please make sure the missing libraries mentioned above are installed properly.\n",
            "\u001b[38;5;2m✔ Created output directory: output\u001b[0m\n",
            "\u001b[38;5;4mℹ Saving to output directory: output\u001b[0m\n",
            "\u001b[38;5;4mℹ Using CPU\u001b[0m\n",
            "\u001b[38;5;4mℹ To switch to GPU 0, use the option: --gpu-id 0\u001b[0m\n",
            "\u001b[1m\n",
            "=========================== Initializing pipeline ===========================\u001b[0m\n",
            "[2023-02-21 00:57:07,487] [INFO] Set up nlp object from config\n",
            "INFO:spacy:Set up nlp object from config\n",
            "[2023-02-21 00:57:07,497] [INFO] Pipeline: ['tok2vec', 'ner']\n",
            "INFO:spacy:Pipeline: ['tok2vec', 'ner']\n",
            "[2023-02-21 00:57:07,500] [INFO] Created vocabulary\n",
            "INFO:spacy:Created vocabulary\n",
            "[2023-02-21 00:57:07,988] [WARNING] [W112] The model specified to use for initial vectors (en_core_web_sm) has no vectors. This is almost certainly a mistake.\n",
            "WARNING:spacy:[W112] The model specified to use for initial vectors (en_core_web_sm) has no vectors. This is almost certainly a mistake.\n",
            "[2023-02-21 00:57:07,990] [INFO] Added vectors: en_core_web_sm\n",
            "INFO:spacy:Added vectors: en_core_web_sm\n",
            "[2023-02-21 00:57:07,991] [INFO] Finished initializing nlp object\n",
            "INFO:spacy:Finished initializing nlp object\n",
            "[2023-02-21 00:57:20,721] [INFO] Initialized pipeline components: ['tok2vec', 'ner']\n",
            "INFO:spacy:Initialized pipeline components: ['tok2vec', 'ner']\n",
            "\u001b[38;5;2m✔ Initialized pipeline\u001b[0m\n",
            "\u001b[1m\n",
            "============================= Training pipeline =============================\u001b[0m\n",
            "\u001b[38;5;4mℹ Pipeline: ['tok2vec', 'ner']\u001b[0m\n",
            "\u001b[38;5;4mℹ Initial learn rate: 0.001\u001b[0m\n",
            "E    #       LOSS TOK2VEC  LOSS NER  ENTS_F  ENTS_P  ENTS_R  SCORE \n",
            "---  ------  ------------  --------  ------  ------  ------  ------\n",
            "  0       0          0.00    259.81    0.00    0.00    0.00    0.00\n",
            "  4     200       3103.54  15445.09   35.54   33.93   37.31    0.36\n",
            "  8     400        705.94   6649.03   72.07   68.36   76.21    0.72\n",
            " 12     600       2560.08   3648.52   87.66   90.18   85.27    0.88\n",
            " 16     800       1944.69   2387.07   93.64   94.40   92.90    0.94\n",
            " 20    1000        424.98   1347.12   95.31   95.39   95.24    0.95\n",
            " 24    1200        185.64   1011.16   95.60   96.82   94.41    0.96\n",
            " 28    1400        214.47    972.22   95.53   93.43   97.73    0.96\n",
            " 32    1600        259.46    912.57   97.57   98.24   96.90    0.98\n",
            " 36    1800        232.38    664.01   98.34   98.19   98.49    0.98\n",
            " 40    2000        226.87    571.54   98.08   97.68   98.49    0.98\n",
            " 44    2200        597.30    569.72   97.71   97.09   98.34    0.98\n",
            " 48    2400        498.62    565.78   97.81   97.67   97.96    0.98\n",
            " 53    2600        961.64    701.33   97.78   97.52   98.04    0.98\n",
            " 57    2800        649.94    514.22   98.83   99.01   98.64    0.99\n",
            " 61    3000        569.02    485.79   98.08   97.82   98.34    0.98\n",
            " 65    3200        329.70    388.84   98.52   99.08   97.96    0.99\n",
            " 69    3400        412.56    371.48   98.94   99.17   98.72    0.99\n",
            " 73    3600        404.77    369.58   99.02   98.94   99.09    0.99\n",
            " 77    3800        336.28    302.62   99.02   99.32   98.72    0.99\n",
            " 81    4000        554.82    329.93   98.64   98.79   98.49    0.99\n",
            " 85    4200        372.97    300.11   98.90   99.31   98.49    0.99\n",
            " 89    4400        612.92    318.32   99.51   99.70   99.32    1.00\n",
            " 93    4600        510.95    246.48   99.28   99.17   99.40    0.99\n",
            " 97    4800        408.06    304.95   98.75   98.79   98.72    0.99\n",
            "102    5000       3072.81    473.03   97.81   97.74   97.89    0.98\n",
            "106    5200        429.54    254.27   99.32   99.54   99.09    0.99\n",
            "110    5400       5306.40    543.66   99.24   99.70   98.79    0.99\n",
            "114    5600       1384.64    280.17   98.87   98.72   99.02    0.99\n",
            "118    5800        715.92    226.27   99.43   99.62   99.24    0.99\n",
            "122    6000        784.70    225.18   99.51   99.40   99.62    1.00\n",
            "126    6200        848.73    253.94   98.42   98.12   98.72    0.98\n",
            "130    6400        656.11    210.96   99.36   99.47   99.24    0.99\n",
            "134    6600       1088.92    279.40   99.13   99.39   98.87    0.99\n",
            "138    6800       1015.80    290.07   98.18   98.33   98.04    0.98\n",
            "142    7000       1231.43    241.01   99.43   99.55   99.32    0.99\n",
            "146    7200       1024.55    223.13   98.94   99.32   98.56    0.99\n",
            "151    7400        692.62    220.39   99.70   99.62   99.77    1.00\n",
            "155    7600        318.92    127.53   99.47   99.70   99.24    0.99\n",
            "159    7800        506.17    136.08   99.28   99.17   99.40    0.99\n",
            "163    8000       1200.48    184.63   99.58   99.55   99.62    1.00\n",
            "167    8200        505.99    169.77   99.25   99.02   99.47    0.99\n",
            "171    8400        811.50    143.04   99.47   99.25   99.70    0.99\n",
            "175    8600        941.83    171.99   99.43   99.47   99.40    0.99\n",
            "179    8800       1416.13    241.59   99.58   99.55   99.62    1.00\n",
            "183    9000        683.16    135.12   99.66   99.47   99.85    1.00\n",
            "\u001b[38;5;2m✔ Saved pipeline to output directory\u001b[0m\n",
            "output/model-last\n"
          ]
        }
      ]
    },
    {
      "cell_type": "code",
      "source": [
        "nlp1 = spacy.load(r\"./output/model-last\") #load the best model"
      ],
      "metadata": {
        "id": "CxBwBnZfFbsH"
      },
      "execution_count": null,
      "outputs": []
    },
    {
      "cell_type": "code",
      "source": [
        "!zip -r /content/output_final_sem.zip /content/output_final_sem"
      ],
      "metadata": {
        "colab": {
          "base_uri": "https://localhost:8080/"
        },
        "id": "U0lX0kv6kHPC",
        "outputId": "eedc1009-6187-4c0a-8093-51c074bf46ed"
      },
      "execution_count": null,
      "outputs": [
        {
          "output_type": "stream",
          "name": "stdout",
          "text": [
            "\tzip warning: name not matched: /content/output_final_sem\n",
            "\n",
            "zip error: Nothing to do! (try: zip -r /content/output_final_sem.zip . -i /content/output_final_sem)\n"
          ]
        }
      ]
    },
    {
      "cell_type": "code",
      "source": [
        "from google.colab import files\n",
        "files.download(\"/content/output_final.zip\")"
      ],
      "metadata": {
        "colab": {
          "base_uri": "https://localhost:8080/",
          "height": 34
        },
        "id": "9UtFWPTwkVTj",
        "outputId": "60b1d164-28be-4acf-92ce-0285d11ad451"
      },
      "execution_count": null,
      "outputs": [
        {
          "output_type": "display_data",
          "data": {
            "text/plain": [
              "<IPython.core.display.Javascript object>"
            ],
            "application/javascript": [
              "\n",
              "    async function download(id, filename, size) {\n",
              "      if (!google.colab.kernel.accessAllowed) {\n",
              "        return;\n",
              "      }\n",
              "      const div = document.createElement('div');\n",
              "      const label = document.createElement('label');\n",
              "      label.textContent = `Downloading \"${filename}\": `;\n",
              "      div.appendChild(label);\n",
              "      const progress = document.createElement('progress');\n",
              "      progress.max = size;\n",
              "      div.appendChild(progress);\n",
              "      document.body.appendChild(div);\n",
              "\n",
              "      const buffers = [];\n",
              "      let downloaded = 0;\n",
              "\n",
              "      const channel = await google.colab.kernel.comms.open(id);\n",
              "      // Send a message to notify the kernel that we're ready.\n",
              "      channel.send({})\n",
              "\n",
              "      for await (const message of channel.messages) {\n",
              "        // Send a message to notify the kernel that we're ready.\n",
              "        channel.send({})\n",
              "        if (message.buffers) {\n",
              "          for (const buffer of message.buffers) {\n",
              "            buffers.push(buffer);\n",
              "            downloaded += buffer.byteLength;\n",
              "            progress.value = downloaded;\n",
              "          }\n",
              "        }\n",
              "      }\n",
              "      const blob = new Blob(buffers, {type: 'application/binary'});\n",
              "      const a = document.createElement('a');\n",
              "      a.href = window.URL.createObjectURL(blob);\n",
              "      a.download = filename;\n",
              "      div.appendChild(a);\n",
              "      a.click();\n",
              "      div.remove();\n",
              "    }\n",
              "  "
            ]
          },
          "metadata": {}
        },
        {
          "output_type": "display_data",
          "data": {
            "text/plain": [
              "<IPython.core.display.Javascript object>"
            ],
            "application/javascript": [
              "download(\"download_ea76d895-faef-4428-a542-eb51d73dd28a\", \"output_final.zip\", 64213532)"
            ]
          },
          "metadata": {}
        }
      ]
    },
    {
      "cell_type": "markdown",
      "source": [
        "Load model from system"
      ],
      "metadata": {
        "id": "E0H2hhREnA4B"
      }
    },
    {
      "cell_type": "code",
      "source": [
        "import zipfile\n",
        "\n",
        "zip_ref = zipfile.ZipFile(\"/content/output_final_sem.zip\", 'r')\n",
        "zip_ref.extractall(\"/content\")\n",
        "zip_ref.close()"
      ],
      "metadata": {
        "id": "bm4dZeeMnNXP"
      },
      "execution_count": null,
      "outputs": []
    },
    {
      "cell_type": "code",
      "source": [
        "nlp_ner = spacy.load(\"/content/content/output/model-best\")"
      ],
      "metadata": {
        "id": "HQIt_Y78xffk",
        "colab": {
          "base_uri": "https://localhost:8080/"
        },
        "outputId": "0cd744f8-6998-4909-91c7-1c653433d081"
      },
      "execution_count": null,
      "outputs": [
        {
          "output_type": "stream",
          "name": "stderr",
          "text": [
            "/usr/local/lib/python3.9/dist-packages/spacy/util.py:887: UserWarning: [W095] Model 'en_pipeline' (0.0.0) was trained with spaCy v3.4 and may not be 100% compatible with the current version (3.5.1). If you see errors or degraded performance, download a newer compatible model or retrain your custom model with the current spaCy version. For more details and available updates, run: python -m spacy validate\n",
            "  warnings.warn(warn_msg)\n"
          ]
        }
      ]
    },
    {
      "cell_type": "code",
      "source": [
        "import json #importing train data\n",
        "f = open('/content/testing_data.json', encoding='utf-8')\n",
        "testing = json.load(f)"
      ],
      "metadata": {
        "id": "BDt4pZG9pksI"
      },
      "execution_count": null,
      "outputs": []
    },
    {
      "cell_type": "code",
      "source": [
        "tx = 'FIROZ KHAN firozkhan089@gmail.com +91-9758565672 Career Objective: If you want to leave your footprints on the sands of time do not drag your feet- Dr. APJ Abdul Kalam Apropos, I will leave no stone unturned in making full utilization of my knowledge and talent to the utmost satisfaction of the organization I will work for and to myself Academic Qualifications: Degree University/Board Year Percentage Bachelor of Technology [MECHANICAL ENGINEERING] Uttar Pradesh Technical University 2014 64.6% Intermediate CBSE BOARD 2009 65.8% High School ICSE BOARD 2007 75% Area of Interest: Production Technology Automobile engineering Skill Qualifications : Basic ‘C’ language . Working on windows xp , windows 8. SUMMER TRAINING : One Month summer training at 510 ARMY BASE WORKSHOP at Meerut Cantt. Workshop Attended: Workshop on Advances in HVAC Industry . Personal Details: Father’s Name Mr. Rahat Ali Mother’s Name Mrs. Chaman Bano Languages Known English, Hindi Home Town Meerut Religion Muslim Marital Status Unmarried Height 173cms Date Of Birth 12th August 1991 Corresponding Address 12/128,sec-12 Shastri Nagar ,Meerut Email ID firozkhan089@gmail.com Contact number +91-9758565672 DATE : PLACE : Meerut Firoz Khan'"
      ],
      "metadata": {
        "id": "OsXQ32oqa1jh"
      },
      "execution_count": null,
      "outputs": []
    },
    {
      "cell_type": "code",
      "source": [
        "doc = nlp_ner(tx)"
      ],
      "metadata": {
        "id": "Bxkm-RuNxbLY"
      },
      "execution_count": null,
      "outputs": []
    },
    {
      "cell_type": "code",
      "source": [
        "spacy.displacy.render(doc, style=\"ent\", jupyter=True)\n"
      ],
      "metadata": {
        "colab": {
          "base_uri": "https://localhost:8080/",
          "height": 332
        },
        "id": "_yOEVp_txcmg",
        "outputId": "779b0231-3cc8-477e-fc56-ea0cb2a27e87"
      },
      "execution_count": null,
      "outputs": [
        {
          "output_type": "display_data",
          "data": {
            "text/plain": [
              "<IPython.core.display.HTML object>"
            ],
            "text/html": [
              "<span class=\"tex2jax_ignore\"><div class=\"entities\" style=\"line-height: 2.5; direction: ltr\">\n",
              "<mark class=\"entity\" style=\"background: #ddd; padding: 0.45em 0.6em; margin: 0 0.25em; line-height: 1; border-radius: 0.35em;\">\n",
              "    FIROZ KHAN\n",
              "    <span style=\"font-size: 0.8em; font-weight: bold; line-height: 1; border-radius: 0.35em; vertical-align: middle; margin-left: 0.5rem\">NAME</span>\n",
              "</mark>\n",
              " \n",
              "<mark class=\"entity\" style=\"background: #ddd; padding: 0.45em 0.6em; margin: 0 0.25em; line-height: 1; border-radius: 0.35em;\">\n",
              "    firozkhan089@gmail.com\n",
              "    <span style=\"font-size: 0.8em; font-weight: bold; line-height: 1; border-radius: 0.35em; vertical-align: middle; margin-left: 0.5rem\">EMAIL ADDRESS</span>\n",
              "</mark>\n",
              " \n",
              "<mark class=\"entity\" style=\"background: #ddd; padding: 0.45em 0.6em; margin: 0 0.25em; line-height: 1; border-radius: 0.35em;\">\n",
              "    +91-9758565672\n",
              "    <span style=\"font-size: 0.8em; font-weight: bold; line-height: 1; border-radius: 0.35em; vertical-align: middle; margin-left: 0.5rem\">CONTACT NUMBER</span>\n",
              "</mark>\n",
              " Career Objective: If you want to leave your footprints on the sands of time do not drag your feet- Dr. APJ Abdul Kalam Apropos, I will leave no stone unturned in making full utilization of my knowledge and talent to the utmost satisfaction of the organization I will work for and to myself Academic Qualifications: \n",
              "<mark class=\"entity\" style=\"background: #ddd; padding: 0.45em 0.6em; margin: 0 0.25em; line-height: 1; border-radius: 0.35em;\">\n",
              "    Degree University/Board\n",
              "    <span style=\"font-size: 0.8em; font-weight: bold; line-height: 1; border-radius: 0.35em; vertical-align: middle; margin-left: 0.5rem\">INSTITUTE </span>\n",
              "</mark>\n",
              " Year Percentage \n",
              "<mark class=\"entity\" style=\"background: #ddd; padding: 0.45em 0.6em; margin: 0 0.25em; line-height: 1; border-radius: 0.35em;\">\n",
              "    Bachelor of Technology [\n",
              "    <span style=\"font-size: 0.8em; font-weight: bold; line-height: 1; border-radius: 0.35em; vertical-align: middle; margin-left: 0.5rem\">DEGREE</span>\n",
              "</mark>\n",
              "MECHANICAL ENGINEERING] Uttar Pradesh Technical University 2014 64.6% Intermediate CBSE BOARD 2009 65.8% High School ICSE BOARD 2007 75% Area of Interest: Production Technology Automobile engineering Skill Qualifications : \n",
              "<mark class=\"entity\" style=\"background: #ddd; padding: 0.45em 0.6em; margin: 0 0.25em; line-height: 1; border-radius: 0.35em;\">\n",
              "    Basic\n",
              "    <span style=\"font-size: 0.8em; font-weight: bold; line-height: 1; border-radius: 0.35em; vertical-align: middle; margin-left: 0.5rem\">SKILLS</span>\n",
              "</mark>\n",
              " ‘\n",
              "<mark class=\"entity\" style=\"background: #ddd; padding: 0.45em 0.6em; margin: 0 0.25em; line-height: 1; border-radius: 0.35em;\">\n",
              "    C’ language .\n",
              "    <span style=\"font-size: 0.8em; font-weight: bold; line-height: 1; border-radius: 0.35em; vertical-align: middle; margin-left: 0.5rem\">SKILLS</span>\n",
              "</mark>\n",
              " Working on windows xp , windows 8. SUMMER TRAINING : One Month summer training at 510 ARMY BASE WORKSHOP at Meerut Cantt. Workshop Attended: Workshop on Advances in HVAC Industry . Personal Details: Father’s Name Mr. Rahat Ali Mother’s Name Mrs. Chaman Bano Languages Known English, Hindi Home Town Meerut Religion Muslim Marital Status Unmarried Height 173cms Date Of Birth 12th August 1991 Corresponding Address 12/128,sec-12 Shastri Nagar ,Meerut Email ID \n",
              "<mark class=\"entity\" style=\"background: #ddd; padding: 0.45em 0.6em; margin: 0 0.25em; line-height: 1; border-radius: 0.35em;\">\n",
              "    firozkhan089@gmail.com\n",
              "    <span style=\"font-size: 0.8em; font-weight: bold; line-height: 1; border-radius: 0.35em; vertical-align: middle; margin-left: 0.5rem\">EMAIL ADDRESS</span>\n",
              "</mark>\n",
              " Contact number +91-9758565672 DATE : PLACE : Meerut Firoz Khan</div></span>"
            ]
          },
          "metadata": {}
        }
      ]
    },
    {
      "cell_type": "code",
      "source": [
        "# load the list from the downloaded file\n",
        "with open('resumes.pickle', 'rb') as f:\n",
        "    resumes = pickle.load(f)\n",
        "\n",
        "# print the loaded resumes to verify it matches the original list\n",
        "print(resumes)"
      ],
      "metadata": {
        "colab": {
          "base_uri": "https://localhost:8080/"
        },
        "id": "KP5wGjiB3K3W",
        "outputId": "c35a100a-0c02-44d1-a888-68ac28bc4ba3"
      },
      "execution_count": null,
      "outputs": [
        {
          "output_type": "stream",
          "name": "stdout",
          "text": [
            "['Personal Information CURRICULUM VITAE Full Names : Mike Kisasati Wanaswa ID Card No. 22859930 Postal Address : P.O. Box 85575 80100 Mombasa Telephone No. 0717 550 926 Email Address : mikewanaswa@gmail.com Languages : Well spoken English and Swahili Purpose To put in use the latest inventions in Telecommunication and Information Technology for a positive impact in Individuals, Business Enterprises and Corporate Organizations. Work Experience Date : April 2011 – To Date Position : Fixed Data Network Technician Employer : Ben’s Electronics Services Ltd, Mombasa Duties : Survey, Installation, Integration, Maintenance, Support and Decommissioning of Fixed Data Services using various Access Technologies (WIMAX, FIBER, MICROWAVES and Wi-Fi) for Safaricom Ltd. : Survey, Installation and Support of Ceragon’s IP20 Access Technology for Airtel (K) : Survey , Installation and Support of Cambridge P2MP Solutions for Safaricom. : Fiber Optics Splicing and terminations, deployment, support and maintenance : WAN/LAN Design, installation and Technical Support (Structured Cabling) : Installation and support for CCTV, IP Cameras, Biometrics Security Controls. : Installation and Support for RADWIN P2P Links and Ceragon PTMP,Links. : Installation and support for Telrad Wimax BTS : WI-FI setup, maintenance and Support. : E1 and SIP/VoIP installation and support : Systems Integration on Cisco, HP and Huawei Platforms for MPLS, P2P,VPN and Internet. : Fixed LTE installation for Safaricom’s Enterprise clients. Date : September 2010 - April 2011 Position : Freelance Computer Technician Employer : Self Employed in Mombasa Duties : Installation of software and hardware for PCs, Servers, Printers. : Web design and website maintenance. : Repair of PCs, Printers, Scanners and other computer accessories : LAN/WAN design, installation and support. Date : March 2010 – August 2010 Position : Scanning Officer/System Administrator Employer : Interim Independent Electoral Commission Duties : Scanning of OMR Forms to extract data for the voters : Creation and maintenance of Voters’ database/Register : End User training and support on Voter Management System : MMC Administration/ Mail servers administration. : Network Management & Data Recovery : Repair and maintenance of Scanner, printers and Computers. Date : January 2009 - March 2010 Position : Freelance Computer Technician Duties : Installation of software and hardware for PCs, Servers, Printers. : Repair of PCs, Printers, Scanners and other computer accessories : LAN/WAN Support. Educational Background Date : September 2007 – December 2008 Institution : Inoorero University (Kenya School of Professional studies) - Nairobi Course : Diploma in Computer Engineering, System Administration and Support Grade : Credit Date : Feb 1997 – November 2000 Institution : Bungoma High School, Bungoma Grade : KCSE Mean Grade B- (Minus) Date : Jan 1989 – December 1996 Institution : Bungoma DEB Primary School, Bungoma Grade : KCPE 444 out of 700 Marks Professional Trainings Date : July 2018 Institution : Amiran Communications Course : Radwin Installer , P2P, P2MP Grade : Distinction Date : March 2018 Institution : Cambridge Broadband Networks Kenya Ltd Course : VectarStar Installation. Grade : Distinction Date : Jan 2018 Institution : Ceragon Networks Course : Ceragon Certified Rollout Professional IP20C/S/E/N Grade : Distinction Date : June 2017 Institution : E Learning - Ruckus Course : Ruckus Wireless Certified Associate – Support Engineer (RWCA-SupE) Grade : Distinction Date : Jan 2017 to Mar 2017 Institution : IAT Mombasa Course : CCNA Grade : Distinction Date : July 2015 Institution : Viscar Industrial Capacity Ltd Course : Fall Arrest Technician/Work at Height Grade : Distinction Note: Am in possession of a clean Class BCE Driving license Referees Patrick Odame Regional Election Coordinator, Bungoma P.O. Box 2568, 50200, Bungoma Phone No. 0720 255 059 snyodame@yahoo.co.uk Cyrus Soi Projects Manager, Bens Electronics P. O. Box 726 , 80100 Mombasa Phone 0710466547 info@benselectronics.co.ke Christine Owuor Fixed Access Engineer, Safaricom P O. Box 66827 00800 Nairobi Phone No. 0724 360 530 cowuor@safaricom.co.ke Kelvin Ongoro Field Engineer, Safaricom. P.O. Box 66827 00800 Nairobi Phone 0724619 217 kongoro@safaricom.co.ke\\r', 'Curriculam Vitae Ardra Prasad OBJECTIVES Seeking entry level positions in a growth oriented company in the field of the infrastructure construction and consulting ACADEMIC QUALIFICATION ARDRA PRASAD Kg-3,146 Vikas Puri New Delhi-110018 Phone: 9891423551 , 9650459770 E-mail: ardraprasad93@gmail.com Degree/ Certificates University / Institutes Passing Year Result (%) B.Tech in Civil Engineering Sarabhai Institute of Science and Technology (CUSAT ), Trivandrum 2015 70.5 (til 7thsem; last year result awaiting) Higher Secondary Certificate (HSC) Kerala Public School (CBSE), Vikas Puri, New Delhi 2011 77 Secondary School Certificate (SSC) Kerala Public School (CBSE) , Vikas Puri, New Delhi 2009 77 \\uf07d Resume: ARDRA ACADEMIC SEMINAR UNDERTAKEN Topic: Performance of Zycosoil on the Pavements ACADEMIC PROJECT UNDERTAKEN Project: Planning and designing of bus terminal cum commercial complex in East Fort (near Sree Padhmanabha Swami Temple), Trivandum PERSONALITY TRAITS Hard working, punctual and responsible Strong motivational and leadership skills Excellent communication skills Ability to perform under high pressure and against target deadlines COMPUTER KNOWLEDGE AutoCAD 2D STAAD Pro. Programming language: C , C++ MS Office CERTIFICATION AutoCAD 2012 Certified Professional ACHIEVEMENTS Best KHO-KHO player of my school Performed dance in closing ceremony of Common Wealth Games 2011 \\uf07d Page 2 | 8893246785 \\uf07d Resume: ARDRA HOBBIES Gardening Playing badminton and caroms Internet browsing EXPERIENCE Fresher PERSONAL DETAILS Name : Ardra Prasad Father’s name : N.V Prasad Mother’s name : Sunita Prasad Date of Birth : 23-12-1993 Nationality : India Sex : Female Marital Status : Single Language known : English, Hindi, Malayalam (speak, read and write) DECLARATION I declare that the information and facts stated here in are true and correct to the best of my knowledge and belief. \\uf07d Page 3 | ardraprasad93@gmail.com\\r', \"SATYAM RICHHARIYA Contact No. +918375887854 E-mail- satyamce@gmail.com CAREER OBJECTIVE: To be a part of an organization that offers an excellent work culture to secure a challenging position to contribute and grow in the area of human resource development. ACADEMIC QUALIFICATION: 10th M.P Board, with 1st division from BHOPAL. 10+2 M.P Board, with 1st division from BHOPAL. STRENTH: Honest and innovative. Quick learner. Open and positive toward feedback. Good networking skills. Focus & committed toward the effective completion of work. PERSONAL INFORMATION: Name Satyam Richhariya Father's Name Mr. Mahesh Prasad Languages Known English, Hindi Residential Address WZ 5D\\\\1 , New Mahavir Nagar, New Delhi , 110058 DECLARATION: I would be glad to provide any other information by you. I would appreciate an opportunity to meet hiring managers in your organization. This would enable me to explain what I have learned in academic so far & how I can apply my learning & knowledge to meet your requirements. Thank you for your kind attention & walking through my resume. DATE: PLACE: DELHI Satyam Richhariya\\r\", 'Mohammad Salman ALI Mobile phone: (+91)7503729071 ~ e-Mail:salman.ali19@gmail.com Seeking assignments in the field of Electronics & Instrumentation in reputed organization. SYNOPSIS A competent candidate with in-depth knowledge of Electronics & Control Instrumentation. Possess an analytical bent of mind and strong problem solving abilities. B.Tech (ice) for challenging projects and attaining professional excellence. SCHOLASTICS B.Tech. in Instrumentation & Control from GGSIPU, Delhi in (2014). Diploma in Electronics & communication from Signal Trainning School , delhi in (2010) Grade 12 from BSF sr sec residl school, Darjeeling Grade 10 from BSF sr sec residl school, Darjeeling Well versed with MS-Office /win7. CERTIFICATIONS POST DIPLOMA IN INDUTRIAL AUTOMATION from INDO-DANISH TOOL ROOM (Jamshedpur) Automation with pneumatics Automation with hydraulics Advance PLC programming with SCADA CNC maintenance & commissioning Basics of CNC turning Basics of CNC milling AC servo drive AutoCAD 2010(electrical) PROJECTS DIPLOMA: Solid state voltage regulator using semiconductors. B.TECH Automatic Vehicle Number plate Recognisation system using MATLAB (minor project) Automatic Vehicle Number Plate Based Toll Collection System (major project) TRANNING & VISITS: 6 week training in INDIAN RAILWAYS ,Tughlakabad (delhi) in electrical wing. Visited ALL INDIA POLICE NETWORK SYSTEM at POLNET,sirifort (delhi) Visited ITC LTD,munger 6 months post diploma industrial automation tranning at IDTR (M.S.M.E),Jamshedpur EXTRA CO-CURRICULAR ACTIVITIES Took part in vollyball contests. Member of function organizing student committee. Took part in group discussion at college level. Served as Deputy Hostel captain(X) & hostel captain (XII) at school. KEY STRENGTH Hard working, Discipline & Punctual Good Listener & Self Motivated Sincerity Towards Goal PERSONAL DOSSIER Father’s Name : late MD Irfan Father’s Occupation : Defence Service. Mother’s Name : Talat Perween Date of Birth : 14th august.,1988. Marital Status : Unmarried Languages Known : English, Hindi. Alternate E-Mail : ali_salman_143@yahoo.com Present Address : H-533, 3 rd floor DR Ambedkar Nagar Sec-5. Dakshinpuri,Newdelhi-62 DECLAIRATION: I hereby declare that the information furnished above is true to the best of my knowledge. Date: / / Place: Delhi MD SALMAN ALI\\r', 'VIREN V. TIMBADIYA B.Pharm , MBA L/401 – Vrajdarshan Residency, Vraj Chowk, Simada, Surat – 395010 Gujarat, INDIA E-Mail :- viren0312@gmail.com M :- (+91)(9909198882) SUBJECT :- Application for the post of Eligible and Suitable Post. Respected Sir, With references to some reliable sources, I have come to know that there is a requirement of qualified person at your company. I would like to introduce myself as a young, dynamic and enthusiastic Pharmacy Graduate with MBA in Marketing Specialization. I would like to venture with this application for a post suitable to my qualification. If you give me an opportunity for this requirement, I will give you full satisfactory work what so ever may be allotted to me. I will try my best of breath. My resume is attached with this application for your kind consideration and sympathetic. Thanking your anticipation and waiting for your favorable response. Your faithfully, ( Viren V. Timbadiya ) Mr. VIREN V. TIMBADIYA L/401 – VrajDarshan Residency, Vraj Chowk, Simada, Surat – 395010 Gujarat, INDIA M - (+91)(9909198882) E Mail – viren0312@gmail.com CAREER OBJECTIVE :- To gain expertise in the field of PHARMACEUTICAL SCINCE, Hospital & Healthcare and to acquire vast experience in practical applications of the skill learnt. I would like to achieve a very good professional status in my field of work. I want to work for company where I can best utilize my skills and knowledge. A company, which require goal oriented people and Development Oriented People having good communication skills and best to learn everyday. WORKING EXPERIENCE :- EMPLOYER - Johnson & Johnson Medical (JJHS – Project handling by Medi Transcare Pvt Ltd) Designation - Product Specialist Head Quarter – Rajkot and also taking care of Whole Surastra & Kutchh Region From – August 2011 to May 2014 (2 Years and 10 Month) Roles & Responsibilities: I was responsible for developing market share for ASP (Advance Sterilization Product) – a division of Johnson & Johnson Medical in whole Saurastra and Kutchh Region ( Gujarat ) dealing with infection prevention range of products , provide training to health care professionals like Nursing staff and Hospital staff on Infection Prevention practices and to promote and sell products to healthcare professionals. Representing JJHS (ASP) in events and conference and activities like Nurses Forum, In Clinic Service program, Surgeon Forum in my territory to engage customer for building customer loyalty and increase brand awareness. Provide customers with innovative service arrangements and consultancy to build and enhance customer loyalty. Successfully deliver positive outcomes on account rate contracts and negotiations. Rate Contract and price negotiation with hospital management for ASP portfolio. Key account management. Driving primary and secondary numbers. Analysis of monthly sales statement and making sales plan accordingly Market development initiatives. Planning & Executing marketing activities Support for new product launches. Creating brand awareness. Channel partner management AWARD ACHIEVEMENT : 2012 I Have Been Awarded By Best PS of the Year 2012 in West Zone I have Been Awarded By Best Performer of the Year 2012 in West Zone I Have Been Awarded By Microshield Champ (Focus Product) of the year 2012 in West Zone 2013 1) I Have Been Awarded By Focus Product Smraat of the year 2013 - INDIA Level 2) I Have Been Awarded By Best Performer of the year 2013 - INDIA Level EMPLOYER – MsGlobus Remedies Ltd Designation - Professional Service Representative Head Quarter – Rajkot, Ex HQ – Jamnagar, Jam-Khambhaliya, Morbi, Gondal. From – May 2007 to September 2008 (1 Years and 05 Month) Roles & Responsibilities: Responsible for Doctor’s Visit and Generating Business from them Responsible for availability of all products at all retail counters Responsible for taking orders and monthly sales statement from the distributors Taking POB from all retail counter to increase sales New product promotion and establish the new products and giving technical information to the doctors EDUCATION QUALIFICATION :- I have passed my Diploma Pharmacy and Degree Pharmacy with Second Class from SAURASTRA UNIVERSITY. I have been doing MBA with marketing specialization from Gujarat Technical University (MBA is going to end on 30th May 2015). PERSONAL PROFILE :- √ NAME Viren Timbadiya √ BIRTH DATE 03th june 1988 √ MARITAL STATUS Single √ GENDER Male √ LANGUAGE KNOWN Gujarati, Hindi, English. √ NATIONALITY Indian √ COMPUTER SKILL Basic, Internet\\r', 'Dr.Alamdar Sayyed   Address: New mill road, kurla (West), Mumbai 400070. Email:alamdar1710@gmail.com Cell: +91 8976297830 OBJECTIVE To acquire a position more suited to my skills and capabilities. I intend to pursue a deep rooted career in Quality control and management related prospectus suited to my knowledge criteria. Endeavor to make the best use of my Skill sets/Potential to benefit the Organization. EDUCATIONAL QUALIFICATION Passed S.S.C from Mumbai Board (81.06%) Passed H.S.C from Maharashtra Board (78.67%) Bachelors of Engineering in Mechanical from Pune University (59.27%) FINAL YEAR PROJECT Project Title: “A.C OPERATION USING SUSPENSION SYSTEM” Description: The purpose of this project, is to make automobiles use the unused vibrations and energies of the suspensions of the vehicles to run the air condition of the automobile. This system reduces the vehicle dependence on fuel and thus reduces fuel consumption. The system also helps in reducing the pollution which is caused due to emissions emitted due to conditioning system. Software used: Pro-E, Catia. Role: Team Head Responsibilities: Collected information from various service centres about this project and also solved the different complicated problems. INTERNSHIP& WORK EXPERIENCE Company Name : OM ENGINEERS (LARSEN AND TOUBRO) Working Period :AUGUST 2014 TO JANUARY2015 Designation : QUALITY CONTROL INSPECTOR AS TRAINEE. Experience : Hands on experience of inspection of machining and fabrication components. Company Name : SAHAFAT NEWSPAPER. Working Period : FEBRUARY 2015 TO MARCH 2015. Designation : NEWS COLLECTOR FOR L WARD. Experience : Hands on experience of photography and sending pictures of latest developments. TECHNICAL PROFICIENCY Designing Software known- Pro-E, Catia. Platform- Windows 98/2000/XP/WIN7, MS OFFICE. TECHNICAL SKILLS Have exposure to relevant International Codes and Standards (ASTM, ASME and API). Knowledge of API spec materials. Knowledge of Pipe Sizes, fittings, flanges and gaskets to be used. Good knowledge of NDT procedures and methods. Reading of drawings and layouts. Good exposure to various welding process and methods. STRENGHTS Can work up to 8-10 hrs. At a stretch. Good communication skills. Grasping Power. Punctual, Disciplined. Good listener, Observer and leadership skills. Can lead an organization in the best and positive way. Has well-spoken attitude to motivate and inspire people in the organization. ACHIEVEMENTS Received gold and silver medal in sprint racing at school level. Came 2nd in science project in 8th standard at school level. Represented my school at Ward level (L-ward) in sports. EXTRA CURRILUCAR ACTIVITIES Was an active member of college football team Arranged and Organized INDUSTRIAL VISIT for Mechanical department in second year. ROBOTIC SOCCER team member for TECH-VIBGYOR 2011-2012. PERSONAL INFORMATION Date of birth :17th October, 1990 Nationality : Indian Languages known : English, Marathi and Hindi, Urdu. Hobbies : Cricket, Football, Listening songs. I hereby declare that all the information furnished above is true to best of my knowledge and belief. Date: - SAYYED ALAMDAR HUSAIN.\\r', \"Ranjith Kumar. K Mail Id: ranji90kumar@gmail.com No. 6, Periyar St, Mobile No.9884895521 Senguttuvan Nagar, 8220049406. Menambedu, Ambattur, Chennai - 600053. Objective: To pursue a challenging and an exciting career, where I can leverage my skills to grow along with the company while being resourceful, innovative and flexible. Educational Qualification: COURSE INSTITUTION/ UNIVERSITY YEAR OF PASSING PERCENTAGE OF MARKS OBTAINED B.A. ECONOMICS D.G.Vaishnav College, Chennai 2008-2011 58.5% HSC Sethu Bhaskara.Mat. Hr. Sec. School, Chennai 2008 72.5% SSLC Ebenezer marcus mat. Hr. sec. school, Chennai 2006 57.5% Computer literacy: Account : Ms Office, Tally9.0 Languages : Oracle, HTML Systat (System Statistics) : Statistical Analysis and Graphics. TORA : Tools for Operational Research & Analyst Work Experience: Working as a Customer Relationship Manager in Pelican Insurance Broking Pvt. ltd. ( Oct 2014 – Till Date). Worked as Relationship Manager at FutuRisk Insurance Broking Pvt. Ltd. (April 2013- sep 2014 ). Worked as Senior Sales Executive Officer at Cholamandalam Ms General Insurance Co. Ltd. ( May 2011- Mar 2013 ). Job Responsibilities: Manage all aspects of the insurance transaction by advising the client, arranging and invoicing the policy, and facilitating claims. Provide consumers with choice in the marketplace, since they usually sell the insurance products of more than one company. Identify the exposure to risk that consumers face and protect them from that exposure. Service the portfolios of existing clients and work to bring new clients on board. Help consumers deal with loss by ensuring the claims process moves as quickly and efficiently as possible. Prepare reports, maintains records and keeps track of a client's changing needs by maintaining relationships. Activities: Attended sales training programs in life insurance and general Insurance. Personal Data: Name : Ranjith Kumar. K Date of Birth : Gender : 29-07-1990 Male Father name : Kanniappan. K Occupation : Nationality : Carpenter. Indian. Religion : Languages known : Hindu Read write Speak English English English Tamil Tamil Tamil Marital Status : Single. Declaration: I hereby declare that all the information given above is true, complete and correct and to the best of my knowledge and belief. Place: Chennai Date: RANJITH KUMAR.K\\r\", 'Ms. Moumita Roy  Present Address: Contact : 7874038946 C-2, Ground Floor, EmailID: rmoumita03@gmail.com Ashoknagar, Nr. Ami Society, Diwalipura, Baroda-390015 Career Objective: To bring to your organization enthusiasm, dedication, responsibility, and good work ethic, combined with a desire to utilize my skills and to achieve success through hard work. Educational Qualification: MBA From Swami Vivekanand University with 70.44 % (First Class) B.Com From M.S. University with 54 % in 1st year 2010 B.Com From M.S. University with 56 % in 2nd year 2011 B.Com From M.S. University with 58 % in 3rd year 2012 Passed H.S.C. from G.S.H.E.B with 75 % in March 2009( English Medium) Passed S.S.C. from G.S.E.B. with 71% in March 2007(English Medium) Certification in Tally ERP 9 Experience: Name of Company: - Orion Education Pvt Ltd August 2012 to Till Now Designation: Account Assistant It is one of the Education firm that provides courses from management to technical courses. Making Receipts & Vouchers. Handling Day to Day cash and all bank transaction. All audit work and filling return. Monthly Salary distribution. Maintaining MIS. Making Profit statement after analyzing data. Making Debtors billing sheet and coordinate with them. Maintained an effective system for analyzing and reporting on operating and capital expenditure Dealt with a turnover of 1 crore. Maintaining records. Other experience : Recruiting & HR roles i.e taking interviews, deciding salary. Strength: Positive Thinking Helpful Self Motivated Hard Working & Punctual Perfect Planning & Management Professional Skill: Tally ERP 9 Internet , Official mails etc. MS Word, Excel Good written & verbal communication Extra Curricular Activity: Dance (Bharatnatiyam) Drawing Floral Rangoli, Ball Race Personal Details: Date of Birth : 21-02-1991 Address : C-2, Ground Floor, Ashoknagar , Nr. Ami Society, Diwalipura, Baroda- 390015 Language Known : English, Hindi, Bengali, Gujarati Declaration: I hereby declare that all the statements given above are correct and true on behalf of my knowledge. If a chance is given to me, I am sure that I will do my best towards my work and conduct. Thank You Moumita Roy 2\\r', 'Ayush Pandey Current Address: Plot No. 122/650, Shastri Nagar, Kanpur, Uttar Pradesh - 208005 INDIA. Permanent Address: Plot No. 122/650, Shastri Nagar, Kanpur, Uttar Pradesh - 208005 INDIA. Passport No.: M8103020 Place of Issue: Lucknow Expiry Date : 30/03/2025 shub.pandey7@yahoo.in +91-8765599273 +91-8115031253 Objective: Challenging and rewarding suitable position in a growth-oriented organization, this offers diverse job responsibility in Mechanical Engineering, New Product Introduction and will fully utilize my technical and managerial skills. Education Qualification: Bachelor in Mechanical Engineering, Seth Sriniwas Agarwal Institute of Engineering & Technology (U.P.T.U) , Kanpur 2013 Awarded – (71.7%) First Class Completed XIIth standard in the year 2009 from Sardar Patel Inter College, Kanpur (U.P Board) Awarded – (64.5%) First Class Completed Xth standard in the year 2007 from Ram Krishana Mission Higher Secondary School, Kanpur (U.P Board) Awarded – (71%) First Class Employment History: Frontier Alloy Steels Ltd., Kanpur, U.P-INDIA Design & Development Engineer in D&D Deptt., June 2013- Present Understand and Study the complete component drawings. Developing 3D Modelling and 2D drawings (with GD&T) of component and pattern. Finite Element Analysis for stress, strain and deformation analysis with the help of ANSYS software. Casting Simulation to solve methoding and find out defects like shrinkage through ProCAST software before production. Reverse Engineering Process. Machining inspection. Inspection of the products. Defect analysis and then implement the ways to minimize present defect within short time. Process planning & execution. To lead the shop floor as per requirement. (When products are under development Deptt.) Maintain all the records as per international standards. To develop different types of components. Special Purpose Machine to remove burs from sharp corner edges after machining. Software Skill: Having Strong command on below given software for computer aided designing. CATIA* for 3D Modeling (Part/Assembly) and Drafting both. ProCAST* for Casting Simulation to detect shrinkage, air entrapment & molten metal flow. UG-NX* for 3D Modeling (Part/Assembly), Drafting & further analysis. Solid-Works* for 3D Modeling (Part/Assembly/Drafting). ANSYS* knowledge for Finite Element Analysis (Structural Analysis). SolidCAM* basic knowledge for machining. AutoCAD*, AviCAD* for Drafting. Reverse Engineering. Diploma in computer application. Technical Skill: Excellent Skills in Designing (2D Drawings & 3D models). Excellent Skills in Casting Manufacturing Process. Pipe Designing Reverse Engineering Computer Aided Designing Good presenter. Plant layout design & development Process Planning, Facility planning & documentations Project management, risk management, lesson learning and implementation Machine Specification and finalization Summer Internship: Summer internship in Power Grid Corporation of India Limited of one month in 2011. Summer internship in P.W.D of one month in 2012. Summer internship in FRONTIER SPRING PVT LTD. on topic Manufacturing of Hot Coiled Helical Springs of one month in 2012. Major Projects: Current industrial project on “Coupler/Knuckle”, which are also using in wagons (Industrial Project, Sep-2014) (5 Team Members) Role: In this project I did all the designing & developing part of components such as drafting, 3D modeling, Casting Simulation for defect free casting, Quality proof casting & Documentation. Industrial Project on “Draft Gear SL-76”, which are using in wagons (Industrial Project, Nov-2013). Role: In this project I lead the designing portion for this product. (5 Team Members) AUTOMATED FLEXIALBE TRANSFER LINE (College Project, March-2013) Role: In this project I completed all the designing part such as 2D-Drawings, 3D-Modeling. (3 Team Members) Running Project- Coach Coupler with Balanced Draft Gear. Balanced Draft Gear is such type of shock absorber, who sucks the load in buff mode, and when the draw mode starts, it releases the absorber energy. i.e. It works on both draw and buff mode. Using in LHB Coaches. (7 Team Members) Personal: Father’s Name : Mr. Bal Krishna Pandey Date of Birth : 26 October 1992 Place of Birth : Kanpur, U.P, India Marital Status : Unmarried Interests : Sound Engineering, Travelling, Singing Languages: English Hindi Social Responsibility: Eco friendly practices. Strength: Confidence Good Communication Positive Attitude Good Listener & Good Speaker Ability to established understanding in between team members for better future of both employees and organisation. Principles: Honest & Smart/Hard Working Declaration: I hereby declare that all the information mentioned above is true of my knowledge and I’ll work with full dedication and will help in raising the company. Date: 20/May/2015 Place: Kanpur-U.P (AYUSH PANDEY) Ayush Pandey +91-8765599273 shub.pandey7@yahoo.in Page 4 of 3\\r', 'Abhishek Magotra  H.no-632, sector-4, Channi Himmat, Jammu (J&K) Email- abhisheksharma268@gmail.com Ph no.- 9622225172 CAREER OBJECTIVE:- To succeed in an environment of growth and excellence and earn a job which provides me job satisfaction and self development and help me achieve personal as well as organizational goals. ACADEMIC QUALIFICATION:- DEGREE/COURSE UNIVERSITY YEAR OF PASSING PERCENTAGE B.TECH (ECE) PTU 2014 59.3% 12TH JKBOSE 2010 68% 10TH JKBOSE 2008 83% MAJOR PROJECT WORK:- Attended 2 weak survey camp at dharamshala,Himachal Pradesh. ACHIEVEMENTS: Certificate of participation in painting competition. Won \"inter college cricket tournament\" in sports meet college. EXTRA CURRICULAR ACTIVITIES:- Certificate of participation in college fest techraze’13. Participation in the ptu cricket tournament. TRAINING: Done 6 month training in Jammu & Kashmir Housing Board. PERSONAL DETAILS:- Father’s Name : Mr. Ashwani Kumar Sharma Mother’s Name : Mrs. Sunita Magotra Date of Birth : 18-march-1993 Hobbies & Interests : Net surfing, listening music Personal Qualities : Hardwork, punctual, adaptable Nationality : Indian Language : Hindi, English & Dogri. DECLARATION:- I hereby solemnly declare that the above information and particulars are true and correct to the best of my knowledge and belief. (Abhishek magotra)\\r', 'Rajan Kumar Mishra \\nContact-No: +91 7503301204; Email: rajanm937@gmail.com OBJECTIVE: I want to be a part of your professional successful team as a team member where I can leverage my potentials and contribute my qualification & skills towards the optimization of the organization goals. TRAINING AND PROJECT Training:- Vocational Summer training in BHEL Heavy Equipment Repair Plant Varanasi From 25/06/2013 to 26/07/2013 Project- “Hexalagged All Terrain Multipurpose Robotic Concept Car” EDUCATIONAL ATTAINMENT Professional:- 69.74% in B.Tech Mechanical Engineering from U.P.T.U. Lucknow in session 2010-2014. Academic:- CLASS YEAR PERCENTAGE BOARD/UNIVERSITY DIVISION Xth 2006 65.67 UP Board Ist XIIth 2008 58.8 UP Board IInd Technical Skills [Auto CAD] Fundamental Knowledge in Computer. ABOUT ME 1- Good at human relations, good decision maker, ability to hard work , good team player. Self motivated enthusiastic to learn, posses effective and outstanding communication skills. 2- I have positive thinking against the problem solving and good interpersonal skills. Willingness to take up the challenging works. HOBBIES Net surfing, reading ,travelling Cricket PERSONAL DATA NAME Rajan Kumar Mishra FATHER’S NAME Mr. Pramod Kumar Mishra PERMANENT ADDRESS Vill&Post-Sikanderpur Bahraich (U.P.) 271824 NATIONALITY INDIAN SEX Male Date of Birth 5th july 1991 MARITAL STATUS Single LANGUAGES KNOWN Hindi, English I hereby declare that above information is best of my knowledge. Date:10/02/2015 (Rajan Kumar Mishra)\\r', 'Divyanshu Bajbai \\nCorrespondence address: Santi kunj moh-dubey post- Bisalpur distt - pilibhit (U.P) Pin-262201 bajpai.divyanshu11@gmail.com + 91-9456861550 Objective To get a job in a reputed organization as a mechanical engineer, where I can utilize my technical skills through self-motivation and hard work. Academic Qualification Graduation : B.Tech in mechanical Engineering from UPTU (Lucknow) with 69.63% Intermediate : Passed with 78.2% from U.P. Board of Education. Matriculation : Passed with 70.33% from U.P. Board of Education Industrial Summer Training Completed 1 month industrial training in Electric Loco Shed, Ghaziabad 1 Month [June 16, 2014- July 12, 2014] During training, I have learned team coordination and time management. Project Fabrication of solar cooker working on dual energy source (solar and electric) and its performance analysis Project Description: in this project, I will use solar energy, electric heating and concept of thermal engineering and design a solar cooker after that enhance its performance. Technical and personal skills Thermal science Strong analytical and mathematical skills Knowledge of manufacturing science Knowledge of theory of machine Team work Disciplined and loyal Good imagination power Strengths Good communication skills.(written and spoken ) Having patience Sound sense of humor. Curious and receptive to new learning. Positive approach Leadership quality Hobbies/ Interest Video gaming Watching fiction movies Extra-curricular Activities Participated in VARIOUS SEMINARS in our college. Industrial visit at NPCIL, NARORA(U.P.) Get 1st prize for (as a topper) in my inter college. Get 1st prize in one minute competition at my school level. Participated in MECH FAIR in my college Personal Details Date of Birth 8th may-1993 Blessed under Mr. Anil Kishore bajpai & Mrs. Sushma bajpai Permanent Address Santi kunj moh-dubey bisalpur(pilibhit) , U.P. Contact Number +91-9456861550 E-mail Address bajpai.divynshu11@gmail.com Gender Male Language known Hindi and English Dated- 19 May 2015\\r', 'Amitendra Gaurav  \\nMail id: gamitendra@yahoo.com Mobile no.8373928694 Career Objective: Seeking an entry-level position in Networking, web-design or other position where I can apply my knowledge of programming. Academic Major project Project name : Lifepatner.in Web portal Organisation : IPSCTM GWALIOR Duration : 45 DAYS Team : 4 Programming : Core Java, Html, CSS, JS Roll : Html and CSS Coding Minor project Project name : Online Test, Web portal Organisation : DUCAT GWALIOR Duration : 30 DAYS Team : 4 Programming : PHP, Html, CSS, Java script Roll : Html and CSS Coding Major project Project name : Lifepatner.in Web portal Organisation : IPSCTM GWALIOR Duration : 45 DAYS Team : 4 Programming : Core Java, Html, CSS, JS Roll : Html and CSS Coding Minor project Project name : Online Test, Web portal Organisation : DUCAT GWALIOR Duration : 30 DAYS Team : 4 Programming : PHP, Html, CSS, Java script Roll : Html and CSS Coding Examination Board/University Year of Passing CGPA B.E RGTU BHOPAL 2014 6.47 12th M.P. BSE 2009 60 10th M.P. BSE 2007 61 Industrial Training 15 Days industrial training Madhya Pradesh electricity board (IT Dep’t.) 45 days training CCNA from Krnetwork Delhi centre. 2 Month training C/C++ from DUCAT Gwalior centre. 3 Month training REDHAT LINUX 7 from krnetwork delhi center Skills in IT MICROSOFT OFFICE(MS WORD,POWER POINT, EXCEL) INTERNET OPERATING SYSTEM (WINDOW XP,WINDOW 7,WINDOW 8,REDHAT LINUX 7) CCNA, HTML,CSS, JAVASCRIPT, BASIC C. Personal Detail Date of Birth : 26-JUN-1992 Hobbies : Listening music, playing video Game, dancing Marital Status : unmarried Languages Known : English, Hindi Father’s Name : Mr. RAJ KUMAR SINGH Current Address : S-148B Sakarpur School block laxmi nagar new delhi-110092 Declaration I hereby declare that the above information furnished by me is true to the best of my knowledge and belief. Date: Place: (Amitendra Gaurav)\\r', 'Mr.Bijeet Kumar \\nAddress for Correspondence: D.O.B:-28/DECEMBER/1992 R. no.-10, PapaPg , Secctor-17, Sukhruli near MG Metro E- mail: bijeetkumarg@gmail.com DISTRICT-GURGAUN ( 122001 ) Web Site: netebooks.bugs3.com M.NO:-9990125352, 7895305584 OBJECTIVES: To build a position in the field of Academia. I want to give my 100% to the organization. EDUCATION: Professional Qualifications: Course : Master of Computer Application (MCA) Institute : ABES Engineering College (032), Ghaziabad (UP) University : Uttar Pradesh Technical University, Luckhnow (UP) Year : 2015 Pre-Final Marks : 64.36 (till 5th semester) Course : Bachelor of Computer Application (BCA) Institute : Brahamanand Mahavidyalya, Bulandshahr (UP) University : Chaudhary Charan Singh University, Meerut (UP) Year : 2012 % Marks : 62.2% ACADEMICS: EXAMINATION YEAR INSTITUTE SUBJECTS % MARKS Intermediate (UP Board) (10+2) 2009 Govt. Inter College, Bulandshahr PCM 61.2 % High School (UP Board) (10th) 2006 Govt. Inter College, Bulandshahr English, Mathematics, Science, Social Science, Hindi, Art 54.33 % EXAMINATION YEAR INSTITUTE SUBJECTS % MARKS Intermediate (UP Board) (10+2) 2009 Govt. Inter College, Bulandshahr PCM 61.2 % High School (UP Board) (10th) 2006 Govt. Inter College, Bulandshahr English, Mathematics, Science, Social Science, Hindi, Art 54.33 % CERTIFICATIONS: EXAMINATION Candidate ID YEAR INSTITUTE / PVT. LTD. AMCAT Certified (ID-30011153156474) 2014 AMCAT LTD. CCNA/CCNP (S & R) 2014 NETWORK BULLS PVT. LTD. (Pursuing) AREAS OF INTEREST: Photography Hardware & Networking Windows configuration Security Systems Computer Configuration Architecture design SKILLS: LANGUAGES: Visual Basic 6.0, C, PHP, HTML, MySQL PLATFORMS: Windows, Linux, MS-DOS, Ubuntu, Xampp , Eclipse, OFFICES : MS Office 2007/2010/2013 TECHNICAL: Computer/Switching/Routing, Networking, troubleshooting, web Designing WORK DONE : POSTGRADUATE CURRICULUM PROJECT WORK MCA Final Year Projects: Project 1 : Health Care Mgnt. Platform : .Net Duration : 4 Month MCA Mini Projects: Project 1 : Android web browser Platform : android Duration : 3 month UNDERGRADUATE CURRICULUM PROJECT WORK BCA Final Year Projects: Project 1 : Metro rail Platform : visual basic 6.0 Duration : 6 month WINTER INTERNSHIPS: Organization: Network bulls Pvt. Ltd , Gurgaon Work: Switching & Routing & Servers The work included customer support services and troubleshooting for computer hardware and computer networks (LANs) at the customer end. SEMINARS & PRESENTATIONS: 1. Communication System 2. Firewalls- The Internet Security 3. Network System 4. System/Application Threats OTHER INFORMATION: DATE OF BIRTH : December, 28th, 1992 NATIONALITY : Indian PERMANENT ADDRESS : S/O MR. Ashok Kumar Village- Machkauli, Post- Jalkhera District- Bulandshahr (203001), UP BIJEET KUMAR DATE:-…………………………. Signature:-…………………………….\\r']\n"
          ]
        }
      ]
    },
    {
      "cell_type": "code",
      "source": [
        "import spacy\n",
        "\n",
        "nlp = spacy.load(\"en_core_web_sm\")\n",
        "\n",
        "names = []\n",
        "\n",
        "for text in resumes:\n",
        "    doc = nlp(text)\n",
        "    for ent in doc.ents:\n",
        "        if ent.label_ == \"PERSON\":\n",
        "            names.append(ent.text)\n",
        "            break\n",
        "\n",
        "print(names)"
      ],
      "metadata": {
        "id": "XqEJrmu9gOOG",
        "colab": {
          "base_uri": "https://localhost:8080/"
        },
        "outputId": "cb284dd2-fa2b-445f-912b-df9c9f97cba6"
      },
      "execution_count": null,
      "outputs": [
        {
          "output_type": "stream",
          "name": "stdout",
          "text": [
            "['Mike Kisasati', 'Ardra Prasad', 'Mahesh Prasad', 'Mohammad Salman', 'Vraj Chowk', 'Alamdar Sayyed', 'Ranjith Kumar', 'Moumita Roy', 'Ayush Pandey', 'Abhishek Magotra', 'Rajan Kumar Mishra', 'Divyanshu Bajbai', 'Amitendra Gaurav  \\nMail', 'Bijeet Kumar']\n"
          ]
        }
      ]
    },
    {
      "cell_type": "code",
      "source": [
        "len(names)"
      ],
      "metadata": {
        "colab": {
          "base_uri": "https://localhost:8080/"
        },
        "id": "LxSUL08mVpcZ",
        "outputId": "2acc427c-4109-4ef3-cc21-4be76658392f"
      },
      "execution_count": null,
      "outputs": [
        {
          "output_type": "execute_result",
          "data": {
            "text/plain": [
              "14"
            ]
          },
          "metadata": {},
          "execution_count": 11
        }
      ]
    },
    {
      "cell_type": "code",
      "source": [
        "dict_l = []\n",
        "\n",
        "for i in resumes:\n",
        "  temp = nlp_ner(i)\n",
        "\n",
        "  d = {}\n",
        "  for ent in temp.ents:\n",
        "    d[ent.label_]=[]\n",
        "\n",
        "  for ent in temp.ents:\n",
        "    d[ent.label_].append(ent.text)\n",
        "\n",
        "  dict_l.append(d)"
      ],
      "metadata": {
        "id": "DBLbBlVMMmUs"
      },
      "execution_count": null,
      "outputs": []
    },
    {
      "cell_type": "code",
      "source": [
        "jd_python_developer = 'Python Developer responsibilities include:\\n\\n\\t\\tWriting effective, scalable code \\n\\n\\t\\tDeveloping back-end components to improve responsiveness and overall performance \\n\\n\\t\\tIntegrating user-facing elements into applications \\n\\nJob brief\\n\\nWe are looking for a Python Developer to join our engineering team and help us develop and maintain various software products.\\n\\nPython Developer responsibilities include writing and testing code, debugging programs and integrating applications with third-party web services. To be successful in this role, you should have experience using server-side logic and work well in a team.\\n\\nUltimately, you’ll build highly responsive web applications that align with our business needs.\\n\\nResponsibilities\\n\\n\\t\\tWrite effective, scalable code \\n\\n\\t\\tDevelop back-end components to improve responsiveness and overall performance \\n\\n\\t\\tIntegrate user-facing elements into applications \\n\\n\\t\\tTest and debug programs \\n\\n\\t\\tImprove functionality of existing systems \\n\\n\\t\\tImplement security and data protection solutions \\n\\n\\t\\tAssess and prioritize feature requests \\n\\n\\t\\tCoordinate with internal teams to understand user requirements and provide technical solutions \\n\\nRequirements\\n\\n\\t\\tWork experience as a Python Developer \\n\\n\\t\\tExpertise in at least one popular Python framework (like Django, Flask or Pyramid) \\n\\n\\t\\tKnowledge of object-relational mapping (ORM) \\n\\n\\t\\tFamiliarity with front-end technologies (like JavaScript and HTML5) \\n\\n\\t\\tTeam spirit \\n\\n\\t\\tGood problem-solving skills \\n\\n\\t\\tBSc in Computer Science, Engineering or relevant field'\n",
        "jd_marketing_manager = \"Job Title: Marketing Manager\\n\\nJob Overview:\\nWe are seeking an experienced Marketing Manager to lead our marketing team in developing and executing marketing strategies that will drive business growth and increase brand awareness. The ideal candidate will be a creative thinker with a strong background in marketing, excellent communication skills, and a proven track record of success.\\n\\nKey Responsibilities:\\n- Develop and implement marketing strategies and campaigns to drive business growth and increase brand awareness.\\n- Manage and oversee the company's marketing budget to ensure that resources are being used effectively.\\n- Develop and execute digital marketing campaigns across a range of channels including social media, email, and display advertising.\\n- Collaborate with cross-functional teams to develop and launch new products and services.\\n- Conduct market research to stay up-to-date with industry trends and customer preferences.\\n- Monitor and analyze the effectiveness of marketing campaigns and adjust strategies as needed.\\n- Manage and mentor a team of marketing professionals, including hiring, training, and performance management.\\n- Build and maintain strong relationships with key stakeholders, including customers, vendors, and industry influencers.\\n\\nQualifications and Requirements:\\n- Bachelor's degree in marketing, business, or a related field.\\n- 5+ years of experience in marketing with a proven track record of success.\\n- Strong leadership and management skills with experience leading a team.\\n- Excellent communication and interpersonal skills.\\n- Ability to think creatively and strategically.\\n- Strong analytical and problem-solving skills.\\n- Experience with digital marketing channels, including social media, email, and display advertising.\\n- Knowledge of marketing automation and analytics tools.\\n- Ability to manage multiple projects and priorities in a fast-paced environment.\\n\\nIf you are a results-driven marketer with a passion for driving growth and building brands, we encourage you to apply for this exciting opportunity.\\n\"\n",
        "jd_communication_engg = \"Job Title: Electronics & Instrumentation Engineer\\n\\nJob Summary: We are seeking a competent Electronics & Instrumentation Engineer to join our team. The ideal candidate will have in-depth knowledge of electronics and control instrumentation, possess strong problem-solving abilities and analytical skills. The candidate will be responsible for executing challenging projects and attaining professional excellence in a reputed organization.\\n\\nKey Responsibilities:\\n\\nDesign, develop, and test electronic circuits and systems.\\nAnalyze and interpret data to solve technical problems and ensure system performance.\\nImplement and troubleshoot instrumentation and control systems.\\nPrepare technical reports, documentation, and presentations.\\nCollaborate with cross-functional teams to ensure project success.\\nStay up-to-date with emerging trends and technologies in electronics and instrumentation.\\nQualifications:\\n\\nBachelor's degree in Instrumentation & Control or related field.\\nDiploma in Electronics & Communication.\\nExperience in industrial automation, pneumatics, hydraulics, PLC programming, and CNC maintenance and commissioning.\\nKnowledge of AutoCAD 2010 (Electrical).\\nStrong proficiency in MS-Office/Win7.\\nSkills and Competencies:\\n\\nStrong analytical and problem-solving skills.\\nAttention to detail and accuracy.\\nExcellent communication and interpersonal skills.\\nSelf-motivated and able to work independently or in a team environment.\\nAbility to manage multiple projects and priorities.\\nGood time management and organizational skills.\"\n"
      ],
      "metadata": {
        "id": "rD6b9JV4ukm3"
      },
      "execution_count": null,
      "outputs": []
    },
    {
      "cell_type": "code",
      "source": [
        "#to convert the JD to vector\n",
        "j = {}\n",
        "temp = nlp_ner(jd_marketing_manager)\n",
        "\n",
        "for ent in temp.ents:\n",
        "  j[ent.label_]=[]\n",
        "\n",
        "for ent in temp.ents:\n",
        "  j[ent.label_].append(ent.text)"
      ],
      "metadata": {
        "id": "QLxLRp3FNs_D"
      },
      "execution_count": null,
      "outputs": []
    },
    {
      "cell_type": "code",
      "source": [
        "import json\n",
        "json_obj_str = json.dumps(d)\n",
        "\n",
        "json_obj_str_j = json.dumps(j)"
      ],
      "metadata": {
        "id": "SiSKwPHHMuAj"
      },
      "execution_count": null,
      "outputs": []
    },
    {
      "cell_type": "code",
      "source": [
        "from sklearn.feature_extraction.text import TfidfVectorizer\n",
        "rank_l = []\n",
        "count = 1\n",
        "\n",
        "json_obj_str_j = json.dumps(j)\n",
        "\n",
        "for i in dict_l:\n",
        "  json_obj_str = json.dumps(i)\n",
        "\n",
        "\n",
        "  # Create a TfidfVectorizer object\n",
        "  vectorizer = TfidfVectorizer()\n",
        "  # Vectorize the two strings\n",
        "  vectors = vectorizer.fit_transform([json_obj_str, json_obj_str_j])\n",
        "\n",
        "  # cv = CountVectorizer()\n",
        "  # vectors = cv.fit_transform([json_obj_str, json_obj_str_j])\n",
        "\n",
        "\n",
        "  # Calculate the cosine similarity between the two vectors\n",
        "  cosine_sim = cosine_similarity(vectors[0], vectors[1])\n",
        "\n",
        "  rank = {}\n",
        "\n",
        "  rank['Candidate'] = \"Candidate - {}\".format(count)\n",
        "  rank['Similarity'] = cosine_sim[0][0]\n",
        "\n",
        "  rank_l.append(rank)\n",
        "  count += 1"
      ],
      "metadata": {
        "id": "KTrRmTiUTtzj"
      },
      "execution_count": null,
      "outputs": []
    },
    {
      "cell_type": "code",
      "source": [
        "df = pd.DataFrame()\n",
        "c = []\n",
        "s = []\n",
        "for i in rank_l:\n",
        "  c.append(i['Candidate'])\n",
        "  s.append(i['Similarity'])\n",
        "df['Candidate'] = c\n",
        "df['Similarity'] = s\n",
        "df['Candidate Name'] = names"
      ],
      "metadata": {
        "id": "-IAnwSbZQQaW"
      },
      "execution_count": null,
      "outputs": []
    },
    {
      "cell_type": "code",
      "source": [
        "df.sort_values(by = \"Similarity\", ascending=False, inplace = True)\n",
        "df['Rank'] = np.arange(1, len(df)+1)\n",
        "df.set_index('Rank', inplace = True)\n",
        "df[['Candidate Name', 'Similarity']]\n"
      ],
      "metadata": {
        "id": "1cZpnYC6fpy4",
        "colab": {
          "base_uri": "https://localhost:8080/",
          "height": 519
        },
        "outputId": "ec4d3182-e756-433d-e6f4-01fc49150aff"
      },
      "execution_count": null,
      "outputs": [
        {
          "output_type": "execute_result",
          "data": {
            "text/plain": [
              "                Candidate Name  Similarity\n",
              "Rank                                      \n",
              "1                 Ayush Pandey    0.214933\n",
              "2               Alamdar Sayyed    0.144393\n",
              "3             Divyanshu Bajbai    0.140810\n",
              "4                 Ardra Prasad    0.123235\n",
              "5              Mohammad Salman    0.111369\n",
              "6                Mike Kisasati    0.091330\n",
              "7                  Moumita Roy    0.083161\n",
              "8                Ranjith Kumar    0.079917\n",
              "9                 Bijeet Kumar    0.074824\n",
              "10                  Vraj Chowk    0.074079\n",
              "11               Mahesh Prasad    0.060921\n",
              "12          Rajan Kumar Mishra    0.054787\n",
              "13    Amitendra Gaurav  \\nMail    0.037541\n",
              "14            Abhishek Magotra    0.000000"
            ],
            "text/html": [
              "\n",
              "  <div id=\"df-cc746669-b822-43a4-afcc-dc280a962b6c\">\n",
              "    <div class=\"colab-df-container\">\n",
              "      <div>\n",
              "<style scoped>\n",
              "    .dataframe tbody tr th:only-of-type {\n",
              "        vertical-align: middle;\n",
              "    }\n",
              "\n",
              "    .dataframe tbody tr th {\n",
              "        vertical-align: top;\n",
              "    }\n",
              "\n",
              "    .dataframe thead th {\n",
              "        text-align: right;\n",
              "    }\n",
              "</style>\n",
              "<table border=\"1\" class=\"dataframe\">\n",
              "  <thead>\n",
              "    <tr style=\"text-align: right;\">\n",
              "      <th></th>\n",
              "      <th>Candidate Name</th>\n",
              "      <th>Similarity</th>\n",
              "    </tr>\n",
              "    <tr>\n",
              "      <th>Rank</th>\n",
              "      <th></th>\n",
              "      <th></th>\n",
              "    </tr>\n",
              "  </thead>\n",
              "  <tbody>\n",
              "    <tr>\n",
              "      <th>1</th>\n",
              "      <td>Ayush Pandey</td>\n",
              "      <td>0.214933</td>\n",
              "    </tr>\n",
              "    <tr>\n",
              "      <th>2</th>\n",
              "      <td>Alamdar Sayyed</td>\n",
              "      <td>0.144393</td>\n",
              "    </tr>\n",
              "    <tr>\n",
              "      <th>3</th>\n",
              "      <td>Divyanshu Bajbai</td>\n",
              "      <td>0.140810</td>\n",
              "    </tr>\n",
              "    <tr>\n",
              "      <th>4</th>\n",
              "      <td>Ardra Prasad</td>\n",
              "      <td>0.123235</td>\n",
              "    </tr>\n",
              "    <tr>\n",
              "      <th>5</th>\n",
              "      <td>Mohammad Salman</td>\n",
              "      <td>0.111369</td>\n",
              "    </tr>\n",
              "    <tr>\n",
              "      <th>6</th>\n",
              "      <td>Mike Kisasati</td>\n",
              "      <td>0.091330</td>\n",
              "    </tr>\n",
              "    <tr>\n",
              "      <th>7</th>\n",
              "      <td>Moumita Roy</td>\n",
              "      <td>0.083161</td>\n",
              "    </tr>\n",
              "    <tr>\n",
              "      <th>8</th>\n",
              "      <td>Ranjith Kumar</td>\n",
              "      <td>0.079917</td>\n",
              "    </tr>\n",
              "    <tr>\n",
              "      <th>9</th>\n",
              "      <td>Bijeet Kumar</td>\n",
              "      <td>0.074824</td>\n",
              "    </tr>\n",
              "    <tr>\n",
              "      <th>10</th>\n",
              "      <td>Vraj Chowk</td>\n",
              "      <td>0.074079</td>\n",
              "    </tr>\n",
              "    <tr>\n",
              "      <th>11</th>\n",
              "      <td>Mahesh Prasad</td>\n",
              "      <td>0.060921</td>\n",
              "    </tr>\n",
              "    <tr>\n",
              "      <th>12</th>\n",
              "      <td>Rajan Kumar Mishra</td>\n",
              "      <td>0.054787</td>\n",
              "    </tr>\n",
              "    <tr>\n",
              "      <th>13</th>\n",
              "      <td>Amitendra Gaurav  \\nMail</td>\n",
              "      <td>0.037541</td>\n",
              "    </tr>\n",
              "    <tr>\n",
              "      <th>14</th>\n",
              "      <td>Abhishek Magotra</td>\n",
              "      <td>0.000000</td>\n",
              "    </tr>\n",
              "  </tbody>\n",
              "</table>\n",
              "</div>\n",
              "      <button class=\"colab-df-convert\" onclick=\"convertToInteractive('df-cc746669-b822-43a4-afcc-dc280a962b6c')\"\n",
              "              title=\"Convert this dataframe to an interactive table.\"\n",
              "              style=\"display:none;\">\n",
              "        \n",
              "  <svg xmlns=\"http://www.w3.org/2000/svg\" height=\"24px\"viewBox=\"0 0 24 24\"\n",
              "       width=\"24px\">\n",
              "    <path d=\"M0 0h24v24H0V0z\" fill=\"none\"/>\n",
              "    <path d=\"M18.56 5.44l.94 2.06.94-2.06 2.06-.94-2.06-.94-.94-2.06-.94 2.06-2.06.94zm-11 1L8.5 8.5l.94-2.06 2.06-.94-2.06-.94L8.5 2.5l-.94 2.06-2.06.94zm10 10l.94 2.06.94-2.06 2.06-.94-2.06-.94-.94-2.06-.94 2.06-2.06.94z\"/><path d=\"M17.41 7.96l-1.37-1.37c-.4-.4-.92-.59-1.43-.59-.52 0-1.04.2-1.43.59L10.3 9.45l-7.72 7.72c-.78.78-.78 2.05 0 2.83L4 21.41c.39.39.9.59 1.41.59.51 0 1.02-.2 1.41-.59l7.78-7.78 2.81-2.81c.8-.78.8-2.07 0-2.86zM5.41 20L4 18.59l7.72-7.72 1.47 1.35L5.41 20z\"/>\n",
              "  </svg>\n",
              "      </button>\n",
              "      \n",
              "  <style>\n",
              "    .colab-df-container {\n",
              "      display:flex;\n",
              "      flex-wrap:wrap;\n",
              "      gap: 12px;\n",
              "    }\n",
              "\n",
              "    .colab-df-convert {\n",
              "      background-color: #E8F0FE;\n",
              "      border: none;\n",
              "      border-radius: 50%;\n",
              "      cursor: pointer;\n",
              "      display: none;\n",
              "      fill: #1967D2;\n",
              "      height: 32px;\n",
              "      padding: 0 0 0 0;\n",
              "      width: 32px;\n",
              "    }\n",
              "\n",
              "    .colab-df-convert:hover {\n",
              "      background-color: #E2EBFA;\n",
              "      box-shadow: 0px 1px 2px rgba(60, 64, 67, 0.3), 0px 1px 3px 1px rgba(60, 64, 67, 0.15);\n",
              "      fill: #174EA6;\n",
              "    }\n",
              "\n",
              "    [theme=dark] .colab-df-convert {\n",
              "      background-color: #3B4455;\n",
              "      fill: #D2E3FC;\n",
              "    }\n",
              "\n",
              "    [theme=dark] .colab-df-convert:hover {\n",
              "      background-color: #434B5C;\n",
              "      box-shadow: 0px 1px 3px 1px rgba(0, 0, 0, 0.15);\n",
              "      filter: drop-shadow(0px 1px 2px rgba(0, 0, 0, 0.3));\n",
              "      fill: #FFFFFF;\n",
              "    }\n",
              "  </style>\n",
              "\n",
              "      <script>\n",
              "        const buttonEl =\n",
              "          document.querySelector('#df-cc746669-b822-43a4-afcc-dc280a962b6c button.colab-df-convert');\n",
              "        buttonEl.style.display =\n",
              "          google.colab.kernel.accessAllowed ? 'block' : 'none';\n",
              "\n",
              "        async function convertToInteractive(key) {\n",
              "          const element = document.querySelector('#df-cc746669-b822-43a4-afcc-dc280a962b6c');\n",
              "          const dataTable =\n",
              "            await google.colab.kernel.invokeFunction('convertToInteractive',\n",
              "                                                     [key], {});\n",
              "          if (!dataTable) return;\n",
              "\n",
              "          const docLinkHtml = 'Like what you see? Visit the ' +\n",
              "            '<a target=\"_blank\" href=https://colab.research.google.com/notebooks/data_table.ipynb>data table notebook</a>'\n",
              "            + ' to learn more about interactive tables.';\n",
              "          element.innerHTML = '';\n",
              "          dataTable['output_type'] = 'display_data';\n",
              "          await google.colab.output.renderOutput(dataTable, element);\n",
              "          const docLink = document.createElement('div');\n",
              "          docLink.innerHTML = docLinkHtml;\n",
              "          element.appendChild(docLink);\n",
              "        }\n",
              "      </script>\n",
              "    </div>\n",
              "  </div>\n",
              "  "
            ]
          },
          "metadata": {},
          "execution_count": 18
        }
      ]
    },
    {
      "cell_type": "code",
      "source": [
        "df[['Candidate Name', 'Similarity']]"
      ],
      "metadata": {
        "colab": {
          "base_uri": "https://localhost:8080/",
          "height": 519
        },
        "id": "OFBCUbD-g0gC",
        "outputId": "bdbfaa3b-fddf-4f64-bd45-350a5c6f7f22"
      },
      "execution_count": null,
      "outputs": [
        {
          "output_type": "execute_result",
          "data": {
            "text/plain": [
              "     Candidate Name  Similarity\n",
              "Rank                           \n",
              "1             Ayush    0.318728\n",
              "2           Alamdar    0.240728\n",
              "3         Divyanshu    0.220479\n",
              "4             ARDRA    0.208422\n",
              "5          MOHAMMAD    0.188982\n",
              "6              Mike    0.158114\n",
              "7           Ranjith    0.151620\n",
              "8           Moumita    0.148873\n",
              "9             VIREN    0.134231\n",
              "10           Bijeet    0.127578\n",
              "11           SATYAM    0.111111\n",
              "12            Rajan    0.099015\n",
              "13        Amitendra    0.069786\n",
              "14          Abishek    0.000000"
            ],
            "text/html": [
              "\n",
              "  <div id=\"df-3d056df7-f4d2-4a71-95f6-513ca6817949\">\n",
              "    <div class=\"colab-df-container\">\n",
              "      <div>\n",
              "<style scoped>\n",
              "    .dataframe tbody tr th:only-of-type {\n",
              "        vertical-align: middle;\n",
              "    }\n",
              "\n",
              "    .dataframe tbody tr th {\n",
              "        vertical-align: top;\n",
              "    }\n",
              "\n",
              "    .dataframe thead th {\n",
              "        text-align: right;\n",
              "    }\n",
              "</style>\n",
              "<table border=\"1\" class=\"dataframe\">\n",
              "  <thead>\n",
              "    <tr style=\"text-align: right;\">\n",
              "      <th></th>\n",
              "      <th>Candidate Name</th>\n",
              "      <th>Similarity</th>\n",
              "    </tr>\n",
              "    <tr>\n",
              "      <th>Rank</th>\n",
              "      <th></th>\n",
              "      <th></th>\n",
              "    </tr>\n",
              "  </thead>\n",
              "  <tbody>\n",
              "    <tr>\n",
              "      <th>1</th>\n",
              "      <td>Ayush</td>\n",
              "      <td>0.318728</td>\n",
              "    </tr>\n",
              "    <tr>\n",
              "      <th>2</th>\n",
              "      <td>Alamdar</td>\n",
              "      <td>0.240728</td>\n",
              "    </tr>\n",
              "    <tr>\n",
              "      <th>3</th>\n",
              "      <td>Divyanshu</td>\n",
              "      <td>0.220479</td>\n",
              "    </tr>\n",
              "    <tr>\n",
              "      <th>4</th>\n",
              "      <td>ARDRA</td>\n",
              "      <td>0.208422</td>\n",
              "    </tr>\n",
              "    <tr>\n",
              "      <th>5</th>\n",
              "      <td>MOHAMMAD</td>\n",
              "      <td>0.188982</td>\n",
              "    </tr>\n",
              "    <tr>\n",
              "      <th>6</th>\n",
              "      <td>Mike</td>\n",
              "      <td>0.158114</td>\n",
              "    </tr>\n",
              "    <tr>\n",
              "      <th>7</th>\n",
              "      <td>Ranjith</td>\n",
              "      <td>0.151620</td>\n",
              "    </tr>\n",
              "    <tr>\n",
              "      <th>8</th>\n",
              "      <td>Moumita</td>\n",
              "      <td>0.148873</td>\n",
              "    </tr>\n",
              "    <tr>\n",
              "      <th>9</th>\n",
              "      <td>VIREN</td>\n",
              "      <td>0.134231</td>\n",
              "    </tr>\n",
              "    <tr>\n",
              "      <th>10</th>\n",
              "      <td>Bijeet</td>\n",
              "      <td>0.127578</td>\n",
              "    </tr>\n",
              "    <tr>\n",
              "      <th>11</th>\n",
              "      <td>SATYAM</td>\n",
              "      <td>0.111111</td>\n",
              "    </tr>\n",
              "    <tr>\n",
              "      <th>12</th>\n",
              "      <td>Rajan</td>\n",
              "      <td>0.099015</td>\n",
              "    </tr>\n",
              "    <tr>\n",
              "      <th>13</th>\n",
              "      <td>Amitendra</td>\n",
              "      <td>0.069786</td>\n",
              "    </tr>\n",
              "    <tr>\n",
              "      <th>14</th>\n",
              "      <td>Abishek</td>\n",
              "      <td>0.000000</td>\n",
              "    </tr>\n",
              "  </tbody>\n",
              "</table>\n",
              "</div>\n",
              "      <button class=\"colab-df-convert\" onclick=\"convertToInteractive('df-3d056df7-f4d2-4a71-95f6-513ca6817949')\"\n",
              "              title=\"Convert this dataframe to an interactive table.\"\n",
              "              style=\"display:none;\">\n",
              "        \n",
              "  <svg xmlns=\"http://www.w3.org/2000/svg\" height=\"24px\"viewBox=\"0 0 24 24\"\n",
              "       width=\"24px\">\n",
              "    <path d=\"M0 0h24v24H0V0z\" fill=\"none\"/>\n",
              "    <path d=\"M18.56 5.44l.94 2.06.94-2.06 2.06-.94-2.06-.94-.94-2.06-.94 2.06-2.06.94zm-11 1L8.5 8.5l.94-2.06 2.06-.94-2.06-.94L8.5 2.5l-.94 2.06-2.06.94zm10 10l.94 2.06.94-2.06 2.06-.94-2.06-.94-.94-2.06-.94 2.06-2.06.94z\"/><path d=\"M17.41 7.96l-1.37-1.37c-.4-.4-.92-.59-1.43-.59-.52 0-1.04.2-1.43.59L10.3 9.45l-7.72 7.72c-.78.78-.78 2.05 0 2.83L4 21.41c.39.39.9.59 1.41.59.51 0 1.02-.2 1.41-.59l7.78-7.78 2.81-2.81c.8-.78.8-2.07 0-2.86zM5.41 20L4 18.59l7.72-7.72 1.47 1.35L5.41 20z\"/>\n",
              "  </svg>\n",
              "      </button>\n",
              "      \n",
              "  <style>\n",
              "    .colab-df-container {\n",
              "      display:flex;\n",
              "      flex-wrap:wrap;\n",
              "      gap: 12px;\n",
              "    }\n",
              "\n",
              "    .colab-df-convert {\n",
              "      background-color: #E8F0FE;\n",
              "      border: none;\n",
              "      border-radius: 50%;\n",
              "      cursor: pointer;\n",
              "      display: none;\n",
              "      fill: #1967D2;\n",
              "      height: 32px;\n",
              "      padding: 0 0 0 0;\n",
              "      width: 32px;\n",
              "    }\n",
              "\n",
              "    .colab-df-convert:hover {\n",
              "      background-color: #E2EBFA;\n",
              "      box-shadow: 0px 1px 2px rgba(60, 64, 67, 0.3), 0px 1px 3px 1px rgba(60, 64, 67, 0.15);\n",
              "      fill: #174EA6;\n",
              "    }\n",
              "\n",
              "    [theme=dark] .colab-df-convert {\n",
              "      background-color: #3B4455;\n",
              "      fill: #D2E3FC;\n",
              "    }\n",
              "\n",
              "    [theme=dark] .colab-df-convert:hover {\n",
              "      background-color: #434B5C;\n",
              "      box-shadow: 0px 1px 3px 1px rgba(0, 0, 0, 0.15);\n",
              "      filter: drop-shadow(0px 1px 2px rgba(0, 0, 0, 0.3));\n",
              "      fill: #FFFFFF;\n",
              "    }\n",
              "  </style>\n",
              "\n",
              "      <script>\n",
              "        const buttonEl =\n",
              "          document.querySelector('#df-3d056df7-f4d2-4a71-95f6-513ca6817949 button.colab-df-convert');\n",
              "        buttonEl.style.display =\n",
              "          google.colab.kernel.accessAllowed ? 'block' : 'none';\n",
              "\n",
              "        async function convertToInteractive(key) {\n",
              "          const element = document.querySelector('#df-3d056df7-f4d2-4a71-95f6-513ca6817949');\n",
              "          const dataTable =\n",
              "            await google.colab.kernel.invokeFunction('convertToInteractive',\n",
              "                                                     [key], {});\n",
              "          if (!dataTable) return;\n",
              "\n",
              "          const docLinkHtml = 'Like what you see? Visit the ' +\n",
              "            '<a target=\"_blank\" href=https://colab.research.google.com/notebooks/data_table.ipynb>data table notebook</a>'\n",
              "            + ' to learn more about interactive tables.';\n",
              "          element.innerHTML = '';\n",
              "          dataTable['output_type'] = 'display_data';\n",
              "          await google.colab.output.renderOutput(dataTable, element);\n",
              "          const docLink = document.createElement('div');\n",
              "          docLink.innerHTML = docLinkHtml;\n",
              "          element.appendChild(docLink);\n",
              "        }\n",
              "      </script>\n",
              "    </div>\n",
              "  </div>\n",
              "  "
            ]
          },
          "metadata": {},
          "execution_count": 32
        }
      ]
    },
    {
      "cell_type": "code",
      "source": [
        "df[['Candidate Name', 'Similarity']]"
      ],
      "metadata": {
        "colab": {
          "base_uri": "https://localhost:8080/",
          "height": 488
        },
        "id": "3-YdPZLsf9Xc",
        "outputId": "30615a23-c85c-4b5c-e9ea-cd49b58a76d3"
      },
      "execution_count": null,
      "outputs": [
        {
          "output_type": "execute_result",
          "data": {
            "text/plain": [
              "    Candidate Name  Similarity\n",
              "8                1    0.318728\n",
              "5                2    0.240728\n",
              "11               3    0.220479\n",
              "1                4    0.208422\n",
              "3                5    0.188982\n",
              "0                6    0.158114\n",
              "6                7    0.151620\n",
              "7                8    0.148873\n",
              "4                9    0.134231\n",
              "13              10    0.127578\n",
              "2               11    0.111111\n",
              "10              12    0.099015\n",
              "12              13    0.069786\n",
              "9               14    0.000000"
            ],
            "text/html": [
              "\n",
              "  <div id=\"df-2891b904-387f-4560-b6ff-4da035a229b8\">\n",
              "    <div class=\"colab-df-container\">\n",
              "      <div>\n",
              "<style scoped>\n",
              "    .dataframe tbody tr th:only-of-type {\n",
              "        vertical-align: middle;\n",
              "    }\n",
              "\n",
              "    .dataframe tbody tr th {\n",
              "        vertical-align: top;\n",
              "    }\n",
              "\n",
              "    .dataframe thead th {\n",
              "        text-align: right;\n",
              "    }\n",
              "</style>\n",
              "<table border=\"1\" class=\"dataframe\">\n",
              "  <thead>\n",
              "    <tr style=\"text-align: right;\">\n",
              "      <th></th>\n",
              "      <th>Candidate Name</th>\n",
              "      <th>Similarity</th>\n",
              "    </tr>\n",
              "  </thead>\n",
              "  <tbody>\n",
              "    <tr>\n",
              "      <th>8</th>\n",
              "      <td>1</td>\n",
              "      <td>0.318728</td>\n",
              "    </tr>\n",
              "    <tr>\n",
              "      <th>5</th>\n",
              "      <td>2</td>\n",
              "      <td>0.240728</td>\n",
              "    </tr>\n",
              "    <tr>\n",
              "      <th>11</th>\n",
              "      <td>3</td>\n",
              "      <td>0.220479</td>\n",
              "    </tr>\n",
              "    <tr>\n",
              "      <th>1</th>\n",
              "      <td>4</td>\n",
              "      <td>0.208422</td>\n",
              "    </tr>\n",
              "    <tr>\n",
              "      <th>3</th>\n",
              "      <td>5</td>\n",
              "      <td>0.188982</td>\n",
              "    </tr>\n",
              "    <tr>\n",
              "      <th>0</th>\n",
              "      <td>6</td>\n",
              "      <td>0.158114</td>\n",
              "    </tr>\n",
              "    <tr>\n",
              "      <th>6</th>\n",
              "      <td>7</td>\n",
              "      <td>0.151620</td>\n",
              "    </tr>\n",
              "    <tr>\n",
              "      <th>7</th>\n",
              "      <td>8</td>\n",
              "      <td>0.148873</td>\n",
              "    </tr>\n",
              "    <tr>\n",
              "      <th>4</th>\n",
              "      <td>9</td>\n",
              "      <td>0.134231</td>\n",
              "    </tr>\n",
              "    <tr>\n",
              "      <th>13</th>\n",
              "      <td>10</td>\n",
              "      <td>0.127578</td>\n",
              "    </tr>\n",
              "    <tr>\n",
              "      <th>2</th>\n",
              "      <td>11</td>\n",
              "      <td>0.111111</td>\n",
              "    </tr>\n",
              "    <tr>\n",
              "      <th>10</th>\n",
              "      <td>12</td>\n",
              "      <td>0.099015</td>\n",
              "    </tr>\n",
              "    <tr>\n",
              "      <th>12</th>\n",
              "      <td>13</td>\n",
              "      <td>0.069786</td>\n",
              "    </tr>\n",
              "    <tr>\n",
              "      <th>9</th>\n",
              "      <td>14</td>\n",
              "      <td>0.000000</td>\n",
              "    </tr>\n",
              "  </tbody>\n",
              "</table>\n",
              "</div>\n",
              "      <button class=\"colab-df-convert\" onclick=\"convertToInteractive('df-2891b904-387f-4560-b6ff-4da035a229b8')\"\n",
              "              title=\"Convert this dataframe to an interactive table.\"\n",
              "              style=\"display:none;\">\n",
              "        \n",
              "  <svg xmlns=\"http://www.w3.org/2000/svg\" height=\"24px\"viewBox=\"0 0 24 24\"\n",
              "       width=\"24px\">\n",
              "    <path d=\"M0 0h24v24H0V0z\" fill=\"none\"/>\n",
              "    <path d=\"M18.56 5.44l.94 2.06.94-2.06 2.06-.94-2.06-.94-.94-2.06-.94 2.06-2.06.94zm-11 1L8.5 8.5l.94-2.06 2.06-.94-2.06-.94L8.5 2.5l-.94 2.06-2.06.94zm10 10l.94 2.06.94-2.06 2.06-.94-2.06-.94-.94-2.06-.94 2.06-2.06.94z\"/><path d=\"M17.41 7.96l-1.37-1.37c-.4-.4-.92-.59-1.43-.59-.52 0-1.04.2-1.43.59L10.3 9.45l-7.72 7.72c-.78.78-.78 2.05 0 2.83L4 21.41c.39.39.9.59 1.41.59.51 0 1.02-.2 1.41-.59l7.78-7.78 2.81-2.81c.8-.78.8-2.07 0-2.86zM5.41 20L4 18.59l7.72-7.72 1.47 1.35L5.41 20z\"/>\n",
              "  </svg>\n",
              "      </button>\n",
              "      \n",
              "  <style>\n",
              "    .colab-df-container {\n",
              "      display:flex;\n",
              "      flex-wrap:wrap;\n",
              "      gap: 12px;\n",
              "    }\n",
              "\n",
              "    .colab-df-convert {\n",
              "      background-color: #E8F0FE;\n",
              "      border: none;\n",
              "      border-radius: 50%;\n",
              "      cursor: pointer;\n",
              "      display: none;\n",
              "      fill: #1967D2;\n",
              "      height: 32px;\n",
              "      padding: 0 0 0 0;\n",
              "      width: 32px;\n",
              "    }\n",
              "\n",
              "    .colab-df-convert:hover {\n",
              "      background-color: #E2EBFA;\n",
              "      box-shadow: 0px 1px 2px rgba(60, 64, 67, 0.3), 0px 1px 3px 1px rgba(60, 64, 67, 0.15);\n",
              "      fill: #174EA6;\n",
              "    }\n",
              "\n",
              "    [theme=dark] .colab-df-convert {\n",
              "      background-color: #3B4455;\n",
              "      fill: #D2E3FC;\n",
              "    }\n",
              "\n",
              "    [theme=dark] .colab-df-convert:hover {\n",
              "      background-color: #434B5C;\n",
              "      box-shadow: 0px 1px 3px 1px rgba(0, 0, 0, 0.15);\n",
              "      filter: drop-shadow(0px 1px 2px rgba(0, 0, 0, 0.3));\n",
              "      fill: #FFFFFF;\n",
              "    }\n",
              "  </style>\n",
              "\n",
              "      <script>\n",
              "        const buttonEl =\n",
              "          document.querySelector('#df-2891b904-387f-4560-b6ff-4da035a229b8 button.colab-df-convert');\n",
              "        buttonEl.style.display =\n",
              "          google.colab.kernel.accessAllowed ? 'block' : 'none';\n",
              "\n",
              "        async function convertToInteractive(key) {\n",
              "          const element = document.querySelector('#df-2891b904-387f-4560-b6ff-4da035a229b8');\n",
              "          const dataTable =\n",
              "            await google.colab.kernel.invokeFunction('convertToInteractive',\n",
              "                                                     [key], {});\n",
              "          if (!dataTable) return;\n",
              "\n",
              "          const docLinkHtml = 'Like what you see? Visit the ' +\n",
              "            '<a target=\"_blank\" href=https://colab.research.google.com/notebooks/data_table.ipynb>data table notebook</a>'\n",
              "            + ' to learn more about interactive tables.';\n",
              "          element.innerHTML = '';\n",
              "          dataTable['output_type'] = 'display_data';\n",
              "          await google.colab.output.renderOutput(dataTable, element);\n",
              "          const docLink = document.createElement('div');\n",
              "          docLink.innerHTML = docLinkHtml;\n",
              "          element.appendChild(docLink);\n",
              "        }\n",
              "      </script>\n",
              "    </div>\n",
              "  </div>\n",
              "  "
            ]
          },
          "metadata": {},
          "execution_count": 24
        }
      ]
    },
    {
      "cell_type": "code",
      "source": [
        "d"
      ],
      "metadata": {
        "colab": {
          "base_uri": "https://localhost:8080/"
        },
        "id": "aaSLwA7L4VL4",
        "outputId": "638c342e-c06e-448e-810a-ebdab0d80af7"
      },
      "execution_count": null,
      "outputs": [
        {
          "output_type": "execute_result",
          "data": {
            "text/plain": [
              "{'NAME': ['RESUME BIJEET KUMAR Address'],\n",
              " 'EMAIL ADDRESS': ['bijeetkumarg@gmail.com', 'netebooks.bugs3.com'],\n",
              " 'SKILLS': ['Academia.',\n",
              "  'Visual Basic 6.0',\n",
              "  'C',\n",
              "  'PHP',\n",
              "  'HTML',\n",
              "  'MySQL',\n",
              "  'Eclipse',\n",
              "  'MS Office'],\n",
              " 'COMPANIES WORKED AT': ['BULLS PVT. LTD.', 'AREAS OF'],\n",
              " 'DEGREE': ['Master of Computer Application',\n",
              "  'Bachelor of Computer Application'],\n",
              " 'INSTITUTE ': ['UP) University :', 'Singh University'],\n",
              " 'DESIGNATION': ['Excellent Skills in Designing'],\n",
              " 'OBJECTIVE': ['Seeking an entry-level position in Networking,'],\n",
              " 'CONTACT NUMBER': ['7895305584']}"
            ]
          },
          "metadata": {},
          "execution_count": 36
        }
      ]
    },
    {
      "cell_type": "code",
      "source": [
        "doc1 = nlp_ner(\"Personal Information CURRICULUM VITAE Full Names : Mike Kisasati Wanaswa ID Card No. 22859930 Postal Address : P.O. Box 85575 80100 Mombasa Telephone No. 0717 550 926 Email Address : mikewanaswa@gmail.com Languages : Well spoken English and Swahili Purpose To put in use the latest inventions in Telecommunication and Information Technology for a positive impact in Individuals, Business Enterprises and Corporate Organizations. Work Experience Date : April 2011 – To Date Position : Fixed Data Network Technician Employer : Ben’s Electronics Services Ltd, Mombasa Duties : Survey, Installation, Integration, Maintenance, Support and Decommissioning of Fixed Data Services using various Access Technologies (WIMAX, FIBER, MICROWAVES and Wi-Fi) for Safaricom Ltd. : Survey, Installation and Support of Ceragon’s IP20 Access Technology for Airtel (K) : Survey , Installation and Support of Cambridge P2MP Solutions for Safaricom. : Fiber Optics Splicing and terminations, deployment, support and maintenance : WAN/LAN Design, installation and Technical Support (Structured Cabling) : Installation and support for CCTV, IP Cameras, Biometrics Security Controls. : Installation and Support for RADWIN P2P Links and Ceragon PTMP,Links. : Installation and support for Telrad Wimax BTS : WI-FI setup, maintenance and Support. : E1 and SIP/VoIP installation and support : Systems Integration on Cisco, HP and Huawei Platforms for MPLS, P2P,VPN and Internet. : Fixed LTE installation for Safaricom’s Enterprise clients. Date : September 2010 - April 2011 Position : Freelance Computer Technician Employer : Self Employed in Mombasa Duties : Installation of software and hardware for PCs, Servers, Printers. : Web design and website maintenance. : Repair of PCs, Printers, Scanners and other computer accessories : LAN/WAN design, installation and support. Date : March 2010 – August 2010 Position : Scanning Officer/System Administrator Employer : Interim Independent Electoral Commission Duties : Scanning of OMR Forms to extract data for the voters : Creation and maintenance of Voters’ database/Register : End User training and support on Voter Management System : MMC Administration/ Mail servers administration. : Network Management & Data Recovery : Repair and maintenance of Scanner, printers and Computers. Date : January 2009 - March 2010 Position : Freelance Computer Technician Duties : Installation of software and hardware for PCs, Servers, Printers. : Repair of PCs, Printers, Scanners and other computer accessories : LAN/WAN Support. Educational Background Date : September 2007 – December 2008 Institution : Inoorero University (Kenya School of Professional studies) - Nairobi Course : Diploma in Computer Engineering, System Administration and Support Grade : Credit Date : Feb 1997 – November 2000 Institution : Bungoma High School, Bungoma Grade : KCSE Mean Grade B- (Minus) Date : Jan 1989 – December 1996 Institution : Bungoma DEB Primary School, Bungoma Grade : KCPE 444 out of 700 Marks Professional Trainings Date : July 2018 Institution : Amiran Communications Course : Radwin Installer , P2P, P2MP Grade : Distinction Date : March 2018 Institution : Cambridge Broadband Networks Kenya Ltd Course : VectarStar Installation. Grade : Distinction Date : Jan 2018 Institution : Ceragon Networks Course : Ceragon Certified Rollout Professional IP20C/S/E/N Grade : Distinction Date : June 2017 Institution : E Learning - Ruckus Course : Ruckus Wireless Certified Associate – Support Engineer (RWCA-SupE) Grade : Distinction Date : Jan 2017 to Mar 2017 Institution : IAT Mombasa Course : CCNA Grade : Distinction Date : July 2015 Institution : Viscar Industrial Capacity Ltd Course : Fall Arrest Technician/Work at Height Grade : Distinction Note: Am in possession of a clean Class BCE Driving license Referees Patrick Odame Regional Election Coordinator, Bungoma P.O. Box 2568, 50200, Bungoma Phone No. 0720 255 059 snyodame@yahoo.co.uk Cyrus Soi Projects Manager, Bens Electronics P. O. Box 726 , 80100 Mombasa Phone 0710466547 info@benselectronics.co.ke Christine Owuor Fixed Access Engineer, Safaricom P O. Box 66827 00800 Nairobi Phone No. 0724 360 530 cowuor@safaricom.co.ke Kelvin Ongoro Field Engineer, Safaricom. P.O. Box 66827 00800 Nairobi Phone 0724619 217 kongoro@safaricom.co.ke\\r\")"
      ],
      "metadata": {
        "id": "GSPr9tK8JZ-W"
      },
      "execution_count": null,
      "outputs": []
    },
    {
      "cell_type": "code",
      "source": [
        "spacy.displacy.render(doc1, style=\"ent\", jupyter=True)"
      ],
      "metadata": {
        "colab": {
          "base_uri": "https://localhost:8080/",
          "height": 1000
        },
        "id": "ycnThvg0JTiz",
        "outputId": "387063bc-5b37-4291-a4e4-9c561cd5ee4a"
      },
      "execution_count": null,
      "outputs": [
        {
          "output_type": "display_data",
          "data": {
            "text/plain": [
              "<IPython.core.display.HTML object>"
            ],
            "text/html": [
              "<span class=\"tex2jax_ignore\"><div class=\"entities\" style=\"line-height: 2.5; direction: ltr\">\n",
              "<mark class=\"entity\" style=\"background: #ddd; padding: 0.45em 0.6em; margin: 0 0.25em; line-height: 1; border-radius: 0.35em;\">\n",
              "    Personal Information\n",
              "    <span style=\"font-size: 0.8em; font-weight: bold; line-height: 1; border-radius: 0.35em; vertical-align: middle; margin-left: 0.5rem\">NAME</span>\n",
              "</mark>\n",
              " CURRICULUM VITAE Full Names : Mike Kisasati Wanaswa ID Card No. 22859930 Postal Address : P.O. Box 85575 80100 Mombasa Telephone No. 0717 550 926 Email Address : \n",
              "<mark class=\"entity\" style=\"background: #ddd; padding: 0.45em 0.6em; margin: 0 0.25em; line-height: 1; border-radius: 0.35em;\">\n",
              "    mikewanaswa@gmail.com\n",
              "    <span style=\"font-size: 0.8em; font-weight: bold; line-height: 1; border-radius: 0.35em; vertical-align: middle; margin-left: 0.5rem\">EMAIL ADDRESS</span>\n",
              "</mark>\n",
              " Languages : Well spoken English and Swahili Purpose To put in use the latest inventions in Telecommunication and Information Technology for a positive impact in Individuals, Business Enterprises and Corporate Organizations. Work Experience Date : April 2011 – To Date Position : Fixed Data Network Technician Employer : Ben’s Electronics Services Ltd, Mombasa Duties : Survey, Installation, Integration, Maintenance, Support and Decommissioning of Fixed Data Services using various Access Technologies (\n",
              "<mark class=\"entity\" style=\"background: #ddd; padding: 0.45em 0.6em; margin: 0 0.25em; line-height: 1; border-radius: 0.35em;\">\n",
              "    WIMAX\n",
              "    <span style=\"font-size: 0.8em; font-weight: bold; line-height: 1; border-radius: 0.35em; vertical-align: middle; margin-left: 0.5rem\">SKILLS</span>\n",
              "</mark>\n",
              ", \n",
              "<mark class=\"entity\" style=\"background: #ddd; padding: 0.45em 0.6em; margin: 0 0.25em; line-height: 1; border-radius: 0.35em;\">\n",
              "    FIBER\n",
              "    <span style=\"font-size: 0.8em; font-weight: bold; line-height: 1; border-radius: 0.35em; vertical-align: middle; margin-left: 0.5rem\">SKILLS</span>\n",
              "</mark>\n",
              ", MICROWAVES and Wi-Fi) for \n",
              "<mark class=\"entity\" style=\"background: #ddd; padding: 0.45em 0.6em; margin: 0 0.25em; line-height: 1; border-radius: 0.35em;\">\n",
              "    Safaricom\n",
              "    <span style=\"font-size: 0.8em; font-weight: bold; line-height: 1; border-radius: 0.35em; vertical-align: middle; margin-left: 0.5rem\">EMAIL ADDRESS</span>\n",
              "</mark>\n",
              " Ltd. : Survey, Installation and Support of Ceragon’s IP20 Access Technology for \n",
              "<mark class=\"entity\" style=\"background: #ddd; padding: 0.45em 0.6em; margin: 0 0.25em; line-height: 1; border-radius: 0.35em;\">\n",
              "    Airtel (K)\n",
              "    <span style=\"font-size: 0.8em; font-weight: bold; line-height: 1; border-radius: 0.35em; vertical-align: middle; margin-left: 0.5rem\">COMPANIES WORKED AT</span>\n",
              "</mark>\n",
              " : \n",
              "<mark class=\"entity\" style=\"background: #ddd; padding: 0.45em 0.6em; margin: 0 0.25em; line-height: 1; border-radius: 0.35em;\">\n",
              "    Survey\n",
              "    <span style=\"font-size: 0.8em; font-weight: bold; line-height: 1; border-radius: 0.35em; vertical-align: middle; margin-left: 0.5rem\">DEGREE</span>\n",
              "</mark>\n",
              " , Installation and Support of Cambridge P2MP Solutions for \n",
              "<mark class=\"entity\" style=\"background: #ddd; padding: 0.45em 0.6em; margin: 0 0.25em; line-height: 1; border-radius: 0.35em;\">\n",
              "    Safaricom.\n",
              "    <span style=\"font-size: 0.8em; font-weight: bold; line-height: 1; border-radius: 0.35em; vertical-align: middle; margin-left: 0.5rem\">COMPANIES WORKED AT</span>\n",
              "</mark>\n",
              " : Fiber Optics Splicing and terminations, \n",
              "<mark class=\"entity\" style=\"background: #ddd; padding: 0.45em 0.6em; margin: 0 0.25em; line-height: 1; border-radius: 0.35em;\">\n",
              "    deployment\n",
              "    <span style=\"font-size: 0.8em; font-weight: bold; line-height: 1; border-radius: 0.35em; vertical-align: middle; margin-left: 0.5rem\">SKILLS</span>\n",
              "</mark>\n",
              ", support and maintenance : WAN/LAN Design, installation and Technical Support (Structured Cabling) : Installation and support for CCTV, IP Cameras, Biometrics Security Controls. : Installation and Support for RADWIN P2P Links and Ceragon PTMP,Links. : Installation and support for Telrad Wimax BTS : WI-FI setup, maintenance and Support. : E1 and SIP/VoIP installation and support : Systems Integration on Cisco, HP and Huawei Platforms for MPLS, P2P,VPN and Internet. : Fixed LTE installation for \n",
              "<mark class=\"entity\" style=\"background: #ddd; padding: 0.45em 0.6em; margin: 0 0.25em; line-height: 1; border-radius: 0.35em;\">\n",
              "    Safaricom’s Enterprise clients.\n",
              "    <span style=\"font-size: 0.8em; font-weight: bold; line-height: 1; border-radius: 0.35em; vertical-align: middle; margin-left: 0.5rem\">COMPANIES WORKED AT</span>\n",
              "</mark>\n",
              " Date : September 2010 - April 2011 Position : Freelance Computer Technician Employer : Self Employed in Mombasa Duties : Installation of software and hardware for PCs, Servers, Printers. : \n",
              "<mark class=\"entity\" style=\"background: #ddd; padding: 0.45em 0.6em; margin: 0 0.25em; line-height: 1; border-radius: 0.35em;\">\n",
              "    Web design and website maintenance.\n",
              "    <span style=\"font-size: 0.8em; font-weight: bold; line-height: 1; border-radius: 0.35em; vertical-align: middle; margin-left: 0.5rem\">SKILLS</span>\n",
              "</mark>\n",
              " : Repair of PCs, Printers, Scanners and other computer accessories : LAN/WAN design, installation and support. Date : March 2010 – August 2010 Position : Scanning Officer/System Administrator Employer : Interim Independent Electoral Commission Duties : Scanning of OMR Forms to extract data for the voters : Creation and maintenance of Voters’ database/Register : End User training and support on Voter Management System : MMC Administration/ Mail servers administration. : Network Management &amp; Data Recovery : Repair and maintenance of Scanner, printers and Computers. Date : January 2009 - March 2010 Position : Freelance Computer Technician Duties : Installation of software and hardware for PCs, Servers, Printers. : Repair of PCs, Printers, Scanners and other computer accessories : LAN/WAN Support. Educational Background Date : September 2007 – December 2008 Institution : \n",
              "<mark class=\"entity\" style=\"background: #ddd; padding: 0.45em 0.6em; margin: 0 0.25em; line-height: 1; border-radius: 0.35em;\">\n",
              "    Inoorero University\n",
              "    <span style=\"font-size: 0.8em; font-weight: bold; line-height: 1; border-radius: 0.35em; vertical-align: middle; margin-left: 0.5rem\">INSTITUTE </span>\n",
              "</mark>\n",
              " (\n",
              "<mark class=\"entity\" style=\"background: #ddd; padding: 0.45em 0.6em; margin: 0 0.25em; line-height: 1; border-radius: 0.35em;\">\n",
              "    Kenya School of Professional studies)\n",
              "    <span style=\"font-size: 0.8em; font-weight: bold; line-height: 1; border-radius: 0.35em; vertical-align: middle; margin-left: 0.5rem\">INSTITUTE </span>\n",
              "</mark>\n",
              " - Nairobi Course : \n",
              "<mark class=\"entity\" style=\"background: #ddd; padding: 0.45em 0.6em; margin: 0 0.25em; line-height: 1; border-radius: 0.35em;\">\n",
              "    Diploma in Computer Engineering\n",
              "    <span style=\"font-size: 0.8em; font-weight: bold; line-height: 1; border-radius: 0.35em; vertical-align: middle; margin-left: 0.5rem\">DEGREE</span>\n",
              "</mark>\n",
              ", System Administration and Support Grade : Credit Date : Feb 1997 – November 2000 Institution : Bungoma High School, Bungoma Grade : KCSE Mean Grade B- (Minus) Date : Jan 1989 – December 1996 Institution : Bungoma DEB Primary School, Bungoma Grade : KCPE 444 out of 700 Marks Professional Trainings Date : July 2018 Institution : Amiran Communications Course : \n",
              "<mark class=\"entity\" style=\"background: #ddd; padding: 0.45em 0.6em; margin: 0 0.25em; line-height: 1; border-radius: 0.35em;\">\n",
              "    Radwin Installer\n",
              "    <span style=\"font-size: 0.8em; font-weight: bold; line-height: 1; border-radius: 0.35em; vertical-align: middle; margin-left: 0.5rem\">SKILLS</span>\n",
              "</mark>\n",
              " , P2P, P2MP Grade : Distinction Date : March 2018 Institution : Cambridge Broadband Networks Kenya Ltd Course : VectarStar Installation. Grade : Distinction Date : Jan 2018 Institution : Ceragon Networks Course : Ceragon Certified Rollout Professional IP20C/S/E/N Grade : Distinction Date : June 2017 Institution : E Learning - Ruckus Course : Ruckus Wireless Certified Associate – Support Engineer (RWCA-SupE) Grade : Distinction Date : Jan 2017 to Mar 2017 Institution : IAT Mombasa Course : CCNA Grade : Distinction Date : July 2015 Institution : Viscar Industrial Capacity Ltd Course : Fall Arrest Technician/Work at Height Grade : Distinction Note: Am in possession of a clean Class BCE Driving license Referees Patrick Odame Regional Election Coordinator, Bungoma P.O. Box 2568, 50200, Bungoma Phone No. 0720 255 059 snyodame@yahoo.co.uk Cyrus Soi Projects Manager, \n",
              "<mark class=\"entity\" style=\"background: #ddd; padding: 0.45em 0.6em; margin: 0 0.25em; line-height: 1; border-radius: 0.35em;\">\n",
              "    Bens Electronics P. O. Box 726\n",
              "    <span style=\"font-size: 0.8em; font-weight: bold; line-height: 1; border-radius: 0.35em; vertical-align: middle; margin-left: 0.5rem\">COMPANIES WORKED AT</span>\n",
              "</mark>\n",
              " , 80100 Mombasa Phone 0710466547 info@benselectronics.co.ke Christine Owuor Fixed Access Engineer, \n",
              "<mark class=\"entity\" style=\"background: #ddd; padding: 0.45em 0.6em; margin: 0 0.25em; line-height: 1; border-radius: 0.35em;\">\n",
              "    Safaricom\n",
              "    <span style=\"font-size: 0.8em; font-weight: bold; line-height: 1; border-radius: 0.35em; vertical-align: middle; margin-left: 0.5rem\">EMAIL ADDRESS</span>\n",
              "</mark>\n",
              " P O. Box 66827 00800 Nairobi Phone No. 0724 360 530 cowuor@safaricom.co.ke Kelvin Ongoro Field Engineer, Safaricom. P.O. Box 66827 00800 Nairobi Phone 0724619 217 kongoro@safaricom.co.ke\r</div></span>"
            ]
          },
          "metadata": {}
        }
      ]
    },
    {
      "cell_type": "code",
      "source": [
        "resume_data = []\n",
        "job_desc = []\n",
        "\n",
        "#with open('/content/drive/MyDrive/t_data.txt','r') as f:\n",
        "\n",
        "for line in f:\n",
        "  resume_data.append(line)\n",
        "  f.close()\n",
        "with open('/content/drive/MyDrive/job_data.txt','r') as f1:\n",
        "  for line in f1:\n",
        "    job_desc.append(line)\n",
        "f.close()"
      ],
      "metadata": {
        "id": "RDr-oxM6PGYC"
      },
      "execution_count": null,
      "outputs": []
    },
    {
      "cell_type": "code",
      "source": [
        "nlp_ner"
      ],
      "metadata": {
        "id": "0vks4UgBJXVO"
      },
      "execution_count": null,
      "outputs": []
    },
    {
      "cell_type": "markdown",
      "source": [
        "Test Data"
      ],
      "metadata": {
        "id": "q-LGg9E0atAf"
      }
    },
    {
      "cell_type": "code",
      "source": [
        "#nlp = spacy.blank(\"en\") # load a new spacy model\n",
        "nlp = spacy.load(\"en_core_web_sm\") # load other spacy model\n",
        "\n",
        "db = DocBin() # create a DocBin object\n",
        "i = 0\n",
        "for text, annot in tqdm(testing['annotations']): # data in previous format\n",
        "    try:\n",
        "        doc = nlp.make_doc(text) # create doc object from text\n",
        "        ents = []\n",
        "        for start, end, label in annot[\"entities\"]: # add character indexes\n",
        "            span = doc.char_span(start, end, label=label, alignment_mode=\"contract\")\n",
        "            if span is None:\n",
        "                print(\"Skipping entity\")\n",
        "            else:\n",
        "                ents.append(span)\n",
        "        doc.ents = ents # label the text with the ents\n",
        "        db.add(doc)\n",
        "        i += 1\n",
        "        print('Loaded', i)\n",
        "\n",
        "    except:\n",
        "        pass"
      ],
      "metadata": {
        "colab": {
          "base_uri": "https://localhost:8080/"
        },
        "id": "FFwKFEfJLndh",
        "outputId": "a357c78f-f791-43d5-fa72-b204d62c5e1e"
      },
      "execution_count": null,
      "outputs": [
        {
          "output_type": "stream",
          "name": "stderr",
          "text": [
            "100%|██████████| 14/14 [00:00<00:00, 109.88it/s]"
          ]
        },
        {
          "output_type": "stream",
          "name": "stdout",
          "text": [
            "Loaded 1\n",
            "Loaded 2\n",
            "Loaded 3\n",
            "Skipping entity\n",
            "Loaded 4\n",
            "Loaded 5\n",
            "Skipping entity\n",
            "Loaded 6\n",
            "Loaded 7\n",
            "Loaded 8\n",
            "Loaded 9\n",
            "Loaded 10\n",
            "Loaded 11\n",
            "Loaded 12\n",
            "Loaded 13\n",
            "Loaded 14\n"
          ]
        },
        {
          "output_type": "stream",
          "name": "stderr",
          "text": [
            "\n"
          ]
        }
      ]
    },
    {
      "cell_type": "code",
      "source": [
        "#os.chdir(r'XXXX\\XXXXX')\n",
        "db.to_disk(\"test.spacy\") # save the docbin object"
      ],
      "metadata": {
        "id": "vM62Bh9VLyG2"
      },
      "execution_count": null,
      "outputs": []
    },
    {
      "cell_type": "code",
      "source": [
        "import locale\n",
        "def getpreferredencoding(do_setlocale = True):\n",
        "    return \"UTF-8\"\n",
        "locale.getpreferredencoding = getpreferredencoding"
      ],
      "metadata": {
        "id": "WCqlQSFbMHo5"
      },
      "execution_count": null,
      "outputs": []
    },
    {
      "cell_type": "code",
      "source": [
        "!python -m spacy evaluate /content/content/output/model-best/ /content/test.spacy #evaluating the model"
      ],
      "metadata": {
        "id": "a7ryvFcj1m1z"
      },
      "execution_count": null,
      "outputs": []
    },
    {
      "cell_type": "code",
      "source": [
        "doc.ents"
      ],
      "metadata": {
        "colab": {
          "base_uri": "https://localhost:8080/"
        },
        "id": "T1MPFkbU1T32",
        "outputId": "f58a7fcb-1687-4c03-e049-95f7cfd94c3c"
      },
      "execution_count": null,
      "outputs": [
        {
          "output_type": "execute_result",
          "data": {
            "text/plain": [
              "(FIROZ KHAN,\n",
              " firozkhan089@gmail.com,\n",
              " +91-9758565672,\n",
              " Degree University/Board,\n",
              " Bachelor of Technology [,\n",
              " Basic,\n",
              " C’ language .,\n",
              " firozkhan089@gmail.com)"
            ]
          },
          "metadata": {},
          "execution_count": 15
        }
      ]
    },
    {
      "cell_type": "code",
      "source": [
        "doc = nlp_ner(tx)\n",
        "for ent in doc.ents:\n",
        "    print(f'{ent.label_.upper():{30}}- {ent.text}')"
      ],
      "metadata": {
        "id": "vdubQ0OJbjkA",
        "colab": {
          "base_uri": "https://localhost:8080/"
        },
        "outputId": "6fe67774-e931-48a2-ceb4-edf17736876f"
      },
      "execution_count": null,
      "outputs": [
        {
          "output_type": "stream",
          "name": "stdout",
          "text": [
            "NAME                          - FIROZ KHAN\n",
            "EMAIL ADDRESS                 - firozkhan089@gmail.com\n",
            "CONTACT NUMBER                - +91-9758565672\n",
            "INSTITUTE                     - Degree University/Board\n",
            "DEGREE                        - Bachelor of Technology [\n",
            "SKILLS                        - Basic\n",
            "SKILLS                        - C’ language .\n",
            "EMAIL ADDRESS                 - firozkhan089@gmail.com\n"
          ]
        }
      ]
    },
    {
      "cell_type": "code",
      "source": [
        "actual_result = [3,2,3,4,4,3,3,2]\n",
        "for i in range(0,8):\n",
        "  k=resume_data[i]\n",
        "  j= job_desc[i]\n",
        "  try:\n",
        "    summarize(k, ratio=0.1)\n",
        "    text_list = [k, j]\n",
        "    from sklearn.feature_extraction.text import CountVectorizer\n",
        "    cv = CountVectorizer()\n",
        "    count_matrix = cv.fit_transform(text_list)\n",
        "    from sklearn.metrics.pairwise import cosine_similarity\n",
        "    # get the match percentage\n",
        "    matchPercentage = cosine_similarity(count_matrix)[0][1] * 100\n",
        "    matchPercentage = round(matchPercentage, 2) # round to two decimal\n",
        "    print('Your resume matches about '+ str(matchPercentage)+ '% of the job description.' ' Actual Labelled Match: ',actual_result[i])\n",
        "  except:\n",
        "    print(\"Can't\")"
      ],
      "metadata": {
        "id": "YXjRDE6nSB5Y"
      },
      "execution_count": null,
      "outputs": []
    },
    {
      "cell_type": "code",
      "source": [
        "tx1 = 'indeed resume michael smith bi big data azure manchester uk email indeed indeedcomrfalicent140749dace5dc26f 10+ year experience designing development administration analysis management inthe business intelligence data warehousing client server technology webbased application cloud solution database data warehouse data analysis star snow flake schema data modeling design specific todata warehousing business intelligence environment database experience database designing scalability backup recovery writing andoptimizing sql code stored procedure creating function view trigger index cloud platform worked microsoft azure cloud service like document db sql azure streamanalytics event hub power bi web job web app power bi azure data lake analyticsusql big data worked azure data lake storeanalytics big data processing azure data factoryto schedule usql job designed developed end end big data solution data insight willing relocate anywhere work experiencesoftware engineer microsoft manchester uk december 2015 present 1 microsoft reward live dashboard description microsoft reward loyalty program reward user browsing shopping online microsoft reward member earn point searching bing browsing microsoft edge making purchase xbox store window store microsoft store plus user pick bonus point taking daily quiz tour microsoft reward website reward live dashboard give live picture usage worldwide market like u canada australia new user registration count topbottom performing reward offer order stats weekly trend user activity order new user registration pbi tile get refreshed different frequency starting 5 second 30 minute technologytools used event hub stream analytics power bi responsibility created stream analytics job process event hub data created power bi live dashboard show live usage traffic weekly trend card chart showtopbottom 10 offer usage metric 2 microsoft reward data insight description microsoft reward loyalty program reward user browsing shopping online microsoft reward member earn point searching bing browsing microsoft edge making purchase xbox store window store microsoft store plus user pick bonus point taking daily quiz tour microsoft reward website reward data insight data analytics reporting platform process 20 million user daily activity redemption across different market like u canada australia technologytools used cosmos microsoft bigdata platform c xflow job monitoring power bi responsibility httpswwwindeedcomrdushyantbhatt140749dace5dc26fisid=rexdownloadikw=downloadtopco=in httpswwwindeedcomrdushyantbhatt140749dace5dc26fisid=rexdownloadikw=downloadtopco=in created big data script cosmos c data extractor processor reducer data transformation power bi dashboard 3 end end tracking tool description realtime tracking tool track different business transaction like order order response functional acknowledgement invoice flowing inside icoe give flexibility customer track transaction appropriate error information incase failure based resource based access control tool give flexibility end user perform different action like view transaction search based different filter criterion view download actual message payload end end tracking tool stitch business transaction like order cash flow connects different hop inside icoe like gateway routing server processing server also connects different system like icoe partner end point sap technologytools used azure document db azure web job web app rbac angular j responsibility document db stored procedure web job process event hub data populate document db• web app api stream analytics job transform data power bi report 4 biztrack tracking tool description realtime tracking tool track different business transaction like order order response functional acknowledgement invoice flowing inside icoe give flexibility customer track transaction appropriate error information incase failure based resource based access control tool give flexibility end user perform different action like view transaction search based different filter criterion view download actual message payload technologytools used sql server 2014 ssis net api angular j responsibility etl solution transform business transaction data stored biztalk table sql azure table stored procedure user defined function performance tuning web api enhancement education university manchester uk 2007 skill problem solving le 1 year project lifecycle le 1 year project manager le 1 year technical assistance le 1 year additional information professional skill excellent analytical problem solving communication knowledge transfer interpersonalskills ability interact individual level quick learner maintains cordial relationship project manager team member andgood performer team independent job environment positive attitude towards superior amp peer supervised junior developer throughout project lifecycle provided technical assistance'"
      ],
      "metadata": {
        "id": "ljR_Dw2GT7ZQ"
      },
      "execution_count": null,
      "outputs": []
    },
    {
      "cell_type": "code",
      "source": [
        "doc = nlp1(tx3) # input sample text\n",
        "doc.ents"
      ],
      "metadata": {
        "id": "87eIHkw_T9Os"
      },
      "execution_count": null,
      "outputs": []
    },
    {
      "cell_type": "code",
      "source": [
        "doc = nlp1(tx)\n",
        "for ent in doc.ents:\n",
        "    print(f'{ent.label_.upper():{30}}- {ent.text}')"
      ],
      "metadata": {
        "id": "jTxKUAiQT_D3"
      },
      "execution_count": null,
      "outputs": []
    },
    {
      "cell_type": "code",
      "source": [
        "jd = 'Python Developer responsibilities include:\\n\\n\\t\\tWriting effective, scalable code \\n\\n\\t\\tDeveloping back-end components to improve responsiveness and overall performance \\n\\n\\t\\tIntegrating user-facing elements into applications \\n\\nJob brief\\n\\nWe are looking for a Python Developer to join our engineering team and help us develop and maintain various software products.\\n\\nPython Developer responsibilities include writing and testing code, debugging programs and integrating applications with third-party web services. To be successful in this role, you should have experience using server-side logic and work well in a team.\\n\\nUltimately, you’ll build highly responsive web applications that align with our business needs.\\n\\nResponsibilities\\n\\n\\t\\tWrite effective, scalable code \\n\\n\\t\\tDevelop back-end components to improve responsiveness and overall performance \\n\\n\\t\\tIntegrate user-facing elements into applications \\n\\n\\t\\tTest and debug programs \\n\\n\\t\\tImprove functionality of existing systems \\n\\n\\t\\tImplement security and data protection solutions \\n\\n\\t\\tAssess and prioritize feature requests \\n\\n\\t\\tCoordinate with internal teams to understand user requirements and provide technical solutions \\n\\nRequirements\\n\\n\\t\\tWork experience as a Python Developer \\n\\n\\t\\tExpertise in at least one popular Python framework (like Django, Flask or Pyramid) \\n\\n\\t\\tKnowledge of object-relational mapping (ORM) \\n\\n\\t\\tFamiliarity with front-end technologies (like JavaScript and HTML5) \\n\\n\\t\\tTeam spirit \\n\\n\\t\\tGood problem-solving skills \\n\\n\\t\\tBSc in Computer Science, Engineering or relevant field'"
      ],
      "metadata": {
        "id": "ZP-SVY7ZT_d7"
      },
      "execution_count": null,
      "outputs": []
    },
    {
      "cell_type": "code",
      "source": [
        "#profiles = [tx, tx1, profile, tx3]\n",
        "profiles = [tx1]\n",
        "\n",
        "for i in profiles:\n",
        "  cv = CountVectorizer()\n",
        "  count_matrix = cv.fit_transform([i, jd])\n",
        "  matchpercentage = cosine_similarity(count_matrix)[0][1]\n",
        "  matchpercentage = round(matchpercentage*100,2)\n",
        "  print('Resume {} - {} % match to the job description !'.format(len(i), matchpercentage))"
      ],
      "metadata": {
        "id": "-ZmQzwErUCYr",
        "colab": {
          "base_uri": "https://localhost:8080/"
        },
        "outputId": "57ff5d86-7775-4a22-d93d-88fe361bd31a"
      },
      "execution_count": null,
      "outputs": [
        {
          "output_type": "stream",
          "name": "stdout",
          "text": [
            "Resume 4902 - 14.06 % match to the job description !\n"
          ]
        }
      ]
    }
  ]
}